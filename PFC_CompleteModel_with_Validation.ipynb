{
 "cells": [
  {
   "cell_type": "code",
   "execution_count": 4,
   "metadata": {
    "collapsed": true
   },
   "outputs": [],
   "source": [
    "data<- read.csv(\"PFC_22genes_AllBehav.csv\", header= TRUE, row.names=1)"
   ]
  },
  {
   "cell_type": "code",
   "execution_count": 5,
   "metadata": {
    "collapsed": false
   },
   "outputs": [
    {
     "data": {
      "text/html": [
       "<table>\n",
       "<thead><tr><th></th><th scope=col>ARPP21</th><th scope=col>ATP6AP1L</th><th scope=col>B3GALT2</th><th scope=col>C9orf116</th><th scope=col>CALB1</th><th scope=col>CCDC80</th><th scope=col>CREB3L1</th><th scope=col>CTXN3</th><th scope=col>DACH1</th><th scope=col>GABRA3</th><th scope=col>...</th><th scope=col>SYNJ2</th><th scope=col>VSTM2L</th><th scope=col>OF_HPA1_T_AUC</th><th scope=col>OF_HPA1_Net_AUC</th><th scope=col>OF_HPA2_T_AUC</th><th scope=col>OF_HPA2_Net_AUC</th><th scope=col>OFA1_Total</th><th scope=col>OFA2_Total</th><th scope=col>Startle</th><th scope=col>Group</th></tr></thead>\n",
       "<tbody>\n",
       "\t<tr><th scope=row>Beta1_F1</th><td>3430    </td><td>1607    </td><td>2086    </td><td>30      </td><td> 497    </td><td>260     </td><td>482     </td><td>2023    </td><td>133     </td><td>6661    </td><td>...     </td><td>2651    </td><td>1275    </td><td>1695    </td><td>1338.00 </td><td>2269    </td><td>1993.0  </td><td>2631    </td><td> 263    </td><td>492.43  </td><td>Beta    </td></tr>\n",
       "\t<tr><th scope=row>Beta2_F1</th><td>3193    </td><td>1683    </td><td>1751    </td><td>32      </td><td> 489    </td><td>136     </td><td>386     </td><td>1789    </td><td> 73     </td><td>6050    </td><td>...     </td><td>3080    </td><td> 800    </td><td>2901    </td><td>1768.00 </td><td>2336    </td><td>1536.0  </td><td>1417    </td><td>  43    </td><td>712.38  </td><td>Beta    </td></tr>\n",
       "\t<tr><th scope=row>Beta3_F1</th><td>4427    </td><td>2056    </td><td>1261    </td><td>14      </td><td> 364    </td><td>125     </td><td>346     </td><td>1289    </td><td>119     </td><td>4921    </td><td>...     </td><td>2570    </td><td>1412    </td><td>1436    </td><td> 588.80 </td><td>2045    </td><td>1868.0  </td><td> 344    </td><td> 956    </td><td>360.00  </td><td>Beta    </td></tr>\n",
       "\t<tr><th scope=row>Beta4_F1</th><td>3836    </td><td>2555    </td><td>1753    </td><td>30      </td><td> 520    </td><td>247     </td><td>482     </td><td>2737    </td><td>129     </td><td>5432    </td><td>...     </td><td>3420    </td><td> 803    </td><td>2327    </td><td> 570.60 </td><td>2821    </td><td>1808.0  </td><td> 551    </td><td>2203    </td><td>148.38  </td><td>Beta    </td></tr>\n",
       "\t<tr><th scope=row>Control1_F1</th><td>9818    </td><td>1733    </td><td> 935    </td><td>95      </td><td>2647    </td><td>120     </td><td>381     </td><td>1277    </td><td>393     </td><td>4692    </td><td>...     </td><td>2713    </td><td>2490    </td><td>1729    </td><td>1334.00 </td><td>2701    </td><td> -12.3  </td><td> 444    </td><td> 780    </td><td>141.50  </td><td>Control </td></tr>\n",
       "\t<tr><th scope=row>Control2_F1</th><td>3802    </td><td> 777    </td><td>1052    </td><td>41      </td><td> 572    </td><td> 89     </td><td>285     </td><td> 963    </td><td>121     </td><td>3407    </td><td>...     </td><td>1719    </td><td>1160    </td><td>1590    </td><td>  65.25 </td><td>2598    </td><td>1192.0  </td><td> 292    </td><td>1091    </td><td>190.50  </td><td>Control </td></tr>\n",
       "</tbody>\n",
       "</table>\n"
      ],
      "text/latex": [
       "\\begin{tabular}{r|llllllllllllllllllllllllllllll}\n",
       "  & ARPP21 & ATP6AP1L & B3GALT2 & C9orf116 & CALB1 & CCDC80 & CREB3L1 & CTXN3 & DACH1 & GABRA3 & ... & SYNJ2 & VSTM2L & OF\\_HPA1\\_T\\_AUC & OF\\_HPA1\\_Net\\_AUC & OF\\_HPA2\\_T\\_AUC & OF\\_HPA2\\_Net\\_AUC & OFA1\\_Total & OFA2\\_Total & Startle & Group\\\\\n",
       "\\hline\n",
       "\tBeta1\\_F1 & 3430     & 1607     & 2086     & 30       &  497     & 260      & 482      & 2023     & 133      & 6661     & ...      & 2651     & 1275     & 1695     & 1338.00  & 2269     & 1993.0   & 2631     &  263     & 492.43   & Beta    \\\\\n",
       "\tBeta2\\_F1 & 3193     & 1683     & 1751     & 32       &  489     & 136      & 386      & 1789     &  73      & 6050     & ...      & 3080     &  800     & 2901     & 1768.00  & 2336     & 1536.0   & 1417     &   43     & 712.38   & Beta    \\\\\n",
       "\tBeta3\\_F1 & 4427     & 2056     & 1261     & 14       &  364     & 125      & 346      & 1289     & 119      & 4921     & ...      & 2570     & 1412     & 1436     &  588.80  & 2045     & 1868.0   &  344     &  956     & 360.00   & Beta    \\\\\n",
       "\tBeta4\\_F1 & 3836     & 2555     & 1753     & 30       &  520     & 247      & 482      & 2737     & 129      & 5432     & ...      & 3420     &  803     & 2327     &  570.60  & 2821     & 1808.0   &  551     & 2203     & 148.38   & Beta    \\\\\n",
       "\tControl1\\_F1 & 9818     & 1733     &  935     & 95       & 2647     & 120      & 381      & 1277     & 393      & 4692     & ...      & 2713     & 2490     & 1729     & 1334.00  & 2701     &  -12.3   &  444     &  780     & 141.50   & Control \\\\\n",
       "\tControl2\\_F1 & 3802     &  777     & 1052     & 41       &  572     &  89      & 285      &  963     & 121      & 3407     & ...      & 1719     & 1160     & 1590     &   65.25  & 2598     & 1192.0   &  292     & 1091     & 190.50   & Control \\\\\n",
       "\\end{tabular}\n"
      ],
      "text/markdown": [
       "\n",
       "| <!--/--> | ARPP21 | ATP6AP1L | B3GALT2 | C9orf116 | CALB1 | CCDC80 | CREB3L1 | CTXN3 | DACH1 | GABRA3 | ... | SYNJ2 | VSTM2L | OF_HPA1_T_AUC | OF_HPA1_Net_AUC | OF_HPA2_T_AUC | OF_HPA2_Net_AUC | OFA1_Total | OFA2_Total | Startle | Group | \n",
       "|---|---|---|---|---|---|\n",
       "| Beta1_F1 | 3430     | 1607     | 2086     | 30       |  497     | 260      | 482      | 2023     | 133      | 6661     | ...      | 2651     | 1275     | 1695     | 1338.00  | 2269     | 1993.0   | 2631     |  263     | 492.43   | Beta     | \n",
       "| Beta2_F1 | 3193     | 1683     | 1751     | 32       |  489     | 136      | 386      | 1789     |  73      | 6050     | ...      | 3080     |  800     | 2901     | 1768.00  | 2336     | 1536.0   | 1417     |   43     | 712.38   | Beta     | \n",
       "| Beta3_F1 | 4427     | 2056     | 1261     | 14       |  364     | 125      | 346      | 1289     | 119      | 4921     | ...      | 2570     | 1412     | 1436     |  588.80  | 2045     | 1868.0   |  344     |  956     | 360.00   | Beta     | \n",
       "| Beta4_F1 | 3836     | 2555     | 1753     | 30       |  520     | 247      | 482      | 2737     | 129      | 5432     | ...      | 3420     |  803     | 2327     |  570.60  | 2821     | 1808.0   |  551     | 2203     | 148.38   | Beta     | \n",
       "| Control1_F1 | 9818     | 1733     |  935     | 95       | 2647     | 120      | 381      | 1277     | 393      | 4692     | ...      | 2713     | 2490     | 1729     | 1334.00  | 2701     |  -12.3   |  444     |  780     | 141.50   | Control  | \n",
       "| Control2_F1 | 3802     |  777     | 1052     | 41       |  572     |  89      | 285      |  963     | 121      | 3407     | ...      | 1719     | 1160     | 1590     |   65.25  | 2598     | 1192.0   |  292     | 1091     | 190.50   | Control  | \n",
       "\n",
       "\n"
      ],
      "text/plain": [
       "            ARPP21 ATP6AP1L B3GALT2 C9orf116 CALB1 CCDC80 CREB3L1 CTXN3 DACH1\n",
       "Beta1_F1    3430   1607     2086    30        497  260    482     2023  133  \n",
       "Beta2_F1    3193   1683     1751    32        489  136    386     1789   73  \n",
       "Beta3_F1    4427   2056     1261    14        364  125    346     1289  119  \n",
       "Beta4_F1    3836   2555     1753    30        520  247    482     2737  129  \n",
       "Control1_F1 9818   1733      935    95       2647  120    381     1277  393  \n",
       "Control2_F1 3802    777     1052    41        572   89    285      963  121  \n",
       "            GABRA3 ... SYNJ2 VSTM2L OF_HPA1_T_AUC OF_HPA1_Net_AUC OF_HPA2_T_AUC\n",
       "Beta1_F1    6661   ... 2651  1275   1695          1338.00         2269         \n",
       "Beta2_F1    6050   ... 3080   800   2901          1768.00         2336         \n",
       "Beta3_F1    4921   ... 2570  1412   1436           588.80         2045         \n",
       "Beta4_F1    5432   ... 3420   803   2327           570.60         2821         \n",
       "Control1_F1 4692   ... 2713  2490   1729          1334.00         2701         \n",
       "Control2_F1 3407   ... 1719  1160   1590            65.25         2598         \n",
       "            OF_HPA2_Net_AUC OFA1_Total OFA2_Total Startle Group   \n",
       "Beta1_F1    1993.0          2631        263       492.43  Beta    \n",
       "Beta2_F1    1536.0          1417         43       712.38  Beta    \n",
       "Beta3_F1    1868.0           344        956       360.00  Beta    \n",
       "Beta4_F1    1808.0           551       2203       148.38  Beta    \n",
       "Control1_F1  -12.3           444        780       141.50  Control \n",
       "Control2_F1 1192.0           292       1091       190.50  Control "
      ]
     },
     "metadata": {},
     "output_type": "display_data"
    }
   ],
   "source": [
    "head(data)"
   ]
  },
  {
   "cell_type": "code",
   "execution_count": 128,
   "metadata": {
    "collapsed": false
   },
   "outputs": [
    {
     "data": {},
     "metadata": {},
     "output_type": "display_data"
    },
    {
     "data": {
      "image/png": "[encoded data removed]",
      "text/plain": [
       "plot without title"
      ]
     },
     "metadata": {},
     "output_type": "display_data"
    }
   ],
   "source": [
    "n=ncol(data)\n",
    "\n",
    "data_21<-data [,1:(n-1)]\n",
    "Group21<- data[,n]\n",
    "\n",
    "pca2<-prcomp(data_21,\n",
    "                center = TRUE,\n",
    "                 scale. = TRUE)\n",
    "\n",
    "library(ggbiplot)\n",
    "library(plotly)\n",
    "b <- ggbiplot(pca2, obs.scale = 1, var.scale = 1, \n",
    "               groups= Group21, ellipse = TRUE,varname.size = 3, varname.adjust = 3, \n",
    "              circle = TRUE)\n",
    "b <- b + scale_color_discrete(name = '')\n",
    "b <- b + theme(legend.direction = 'horizontal', \n",
    "               legend.position = 'top',\n",
    "               panel.background= element_rect(fill = 'white'),\n",
    "               axis.line = element_line(colour = \"black\", size = 1))\n",
    "b\n",
    "## here we are ploting PCA on a circle of correlations to visualize the relationship between gene expression and behaviors"
   ]
  },
  {
   "cell_type": "code",
   "execution_count": 112,
   "metadata": {
    "collapsed": false
   },
   "outputs": [
    {
     "data": {
      "text/html": [
       "<table>\n",
       "<thead><tr><th></th><th scope=col>Beta1_F1</th><th scope=col>Beta2_F1</th><th scope=col>Beta3_F1</th><th scope=col>Beta4_F1</th><th scope=col>Control1_F1</th><th scope=col>Control2_F1</th><th scope=col>Control3_F1</th><th scope=col>Control4_F1</th><th scope=col>Beta1_F2</th><th scope=col>Beta2_F2</th><th scope=col>...</th><th scope=col>Control3_F2</th><th scope=col>Control4_F2</th><th scope=col>Beta1_F3</th><th scope=col>Beta2_F3</th><th scope=col>Beta3_F3</th><th scope=col>Beta4_F3</th><th scope=col>Control1_F3</th><th scope=col>Control2_F3</th><th scope=col>Control3_F3</th><th scope=col>Control4_F3</th></tr></thead>\n",
       "<tbody>\n",
       "\t<tr><th scope=row>ARPP21</th><td>3430</td><td>3193</td><td>4427</td><td>3836</td><td>9818</td><td>3802</td><td>5880</td><td>8455</td><td>3505</td><td>3005</td><td>... </td><td>3737</td><td>4255</td><td>3714</td><td>4842</td><td>2968</td><td>3752</td><td>4125</td><td>8464</td><td>8318</td><td>6903</td></tr>\n",
       "\t<tr><th scope=row>ATP6AP1L</th><td>1607</td><td>1683</td><td>2056</td><td>2555</td><td>1733</td><td> 777</td><td> 764</td><td> 944</td><td>2110</td><td>1667</td><td>... </td><td>2169</td><td>1991</td><td>2077</td><td>1961</td><td>2090</td><td>1422</td><td>1398</td><td>1265</td><td>1532</td><td>1050</td></tr>\n",
       "\t<tr><th scope=row>B3GALT2</th><td>2086</td><td>1751</td><td>1261</td><td>1753</td><td> 935</td><td>1052</td><td> 848</td><td> 783</td><td>2129</td><td>1099</td><td>... </td><td>1004</td><td> 933</td><td>1706</td><td>2071</td><td>1788</td><td>1718</td><td>1408</td><td> 773</td><td>1293</td><td> 778</td></tr>\n",
       "\t<tr><th scope=row>C9orf116</th><td>  30</td><td>  32</td><td>  14</td><td>  30</td><td>  95</td><td>  41</td><td>  54</td><td>  86</td><td>  26</td><td>  37</td><td>... </td><td>  54</td><td>  49</td><td>  48</td><td>  31</td><td>  26</td><td>  25</td><td>  71</td><td>  67</td><td>  43</td><td>  83</td></tr>\n",
       "\t<tr><th scope=row>CALB1</th><td> 497</td><td> 489</td><td> 364</td><td> 520</td><td>2647</td><td> 572</td><td>1008</td><td>1868</td><td> 272</td><td> 399</td><td>... </td><td> 634</td><td> 653</td><td> 322</td><td> 485</td><td> 321</td><td> 280</td><td> 432</td><td>1503</td><td>1429</td><td> 879</td></tr>\n",
       "\t<tr><th scope=row>CCDC80</th><td> 260</td><td> 136</td><td> 125</td><td> 247</td><td> 120</td><td>  89</td><td>  70</td><td>  82</td><td> 259</td><td>  81</td><td>... </td><td>  57</td><td>  64</td><td> 160</td><td> 219</td><td> 164</td><td> 149</td><td> 167</td><td>  77</td><td> 100</td><td>  90</td></tr>\n",
       "</tbody>\n",
       "</table>\n"
      ],
      "text/latex": [
       "\\begin{tabular}{r|llllllllllllllllllllllll}\n",
       "  & Beta1\\_F1 & Beta2\\_F1 & Beta3\\_F1 & Beta4\\_F1 & Control1\\_F1 & Control2\\_F1 & Control3\\_F1 & Control4\\_F1 & Beta1\\_F2 & Beta2\\_F2 & ... & Control3\\_F2 & Control4\\_F2 & Beta1\\_F3 & Beta2\\_F3 & Beta3\\_F3 & Beta4\\_F3 & Control1\\_F3 & Control2\\_F3 & Control3\\_F3 & Control4\\_F3\\\\\n",
       "\\hline\n",
       "\tARPP21 & 3430 & 3193 & 4427 & 3836 & 9818 & 3802 & 5880 & 8455 & 3505 & 3005 & ...  & 3737 & 4255 & 3714 & 4842 & 2968 & 3752 & 4125 & 8464 & 8318 & 6903\\\\\n",
       "\tATP6AP1L & 1607 & 1683 & 2056 & 2555 & 1733 &  777 &  764 &  944 & 2110 & 1667 & ...  & 2169 & 1991 & 2077 & 1961 & 2090 & 1422 & 1398 & 1265 & 1532 & 1050\\\\\n",
       "\tB3GALT2 & 2086 & 1751 & 1261 & 1753 &  935 & 1052 &  848 &  783 & 2129 & 1099 & ...  & 1004 &  933 & 1706 & 2071 & 1788 & 1718 & 1408 &  773 & 1293 &  778\\\\\n",
       "\tC9orf116 &   30 &   32 &   14 &   30 &   95 &   41 &   54 &   86 &   26 &   37 & ...  &   54 &   49 &   48 &   31 &   26 &   25 &   71 &   67 &   43 &   83\\\\\n",
       "\tCALB1 &  497 &  489 &  364 &  520 & 2647 &  572 & 1008 & 1868 &  272 &  399 & ...  &  634 &  653 &  322 &  485 &  321 &  280 &  432 & 1503 & 1429 &  879\\\\\n",
       "\tCCDC80 &  260 &  136 &  125 &  247 &  120 &   89 &   70 &   82 &  259 &   81 & ...  &   57 &   64 &  160 &  219 &  164 &  149 &  167 &   77 &  100 &   90\\\\\n",
       "\\end{tabular}\n"
      ],
      "text/markdown": [
       "\n",
       "| <!--/--> | Beta1_F1 | Beta2_F1 | Beta3_F1 | Beta4_F1 | Control1_F1 | Control2_F1 | Control3_F1 | Control4_F1 | Beta1_F2 | Beta2_F2 | ... | Control3_F2 | Control4_F2 | Beta1_F3 | Beta2_F3 | Beta3_F3 | Beta4_F3 | Control1_F3 | Control2_F3 | Control3_F3 | Control4_F3 | \n",
       "|---|---|---|---|---|---|\n",
       "| ARPP21 | 3430 | 3193 | 4427 | 3836 | 9818 | 3802 | 5880 | 8455 | 3505 | 3005 | ...  | 3737 | 4255 | 3714 | 4842 | 2968 | 3752 | 4125 | 8464 | 8318 | 6903 | \n",
       "| ATP6AP1L | 1607 | 1683 | 2056 | 2555 | 1733 |  777 |  764 |  944 | 2110 | 1667 | ...  | 2169 | 1991 | 2077 | 1961 | 2090 | 1422 | 1398 | 1265 | 1532 | 1050 | \n",
       "| B3GALT2 | 2086 | 1751 | 1261 | 1753 |  935 | 1052 |  848 |  783 | 2129 | 1099 | ...  | 1004 |  933 | 1706 | 2071 | 1788 | 1718 | 1408 |  773 | 1293 |  778 | \n",
       "| C9orf116 |   30 |   32 |   14 |   30 |   95 |   41 |   54 |   86 |   26 |   37 | ...  |   54 |   49 |   48 |   31 |   26 |   25 |   71 |   67 |   43 |   83 | \n",
       "| CALB1 |  497 |  489 |  364 |  520 | 2647 |  572 | 1008 | 1868 |  272 |  399 | ...  |  634 |  653 |  322 |  485 |  321 |  280 |  432 | 1503 | 1429 |  879 | \n",
       "| CCDC80 |  260 |  136 |  125 |  247 |  120 |   89 |   70 |   82 |  259 |   81 | ...  |   57 |   64 |  160 |  219 |  164 |  149 |  167 |   77 |  100 |   90 | \n",
       "\n",
       "\n"
      ],
      "text/plain": [
       "         Beta1_F1 Beta2_F1 Beta3_F1 Beta4_F1 Control1_F1 Control2_F1\n",
       "ARPP21   3430     3193     4427     3836     9818        3802       \n",
       "ATP6AP1L 1607     1683     2056     2555     1733         777       \n",
       "B3GALT2  2086     1751     1261     1753      935        1052       \n",
       "C9orf116   30       32       14       30       95          41       \n",
       "CALB1     497      489      364      520     2647         572       \n",
       "CCDC80    260      136      125      247      120          89       \n",
       "         Control3_F1 Control4_F1 Beta1_F2 Beta2_F2 ... Control3_F2 Control4_F2\n",
       "ARPP21   5880        8455        3505     3005     ... 3737        4255       \n",
       "ATP6AP1L  764         944        2110     1667     ... 2169        1991       \n",
       "B3GALT2   848         783        2129     1099     ... 1004         933       \n",
       "C9orf116   54          86          26       37     ...   54          49       \n",
       "CALB1    1008        1868         272      399     ...  634         653       \n",
       "CCDC80     70          82         259       81     ...   57          64       \n",
       "         Beta1_F3 Beta2_F3 Beta3_F3 Beta4_F3 Control1_F3 Control2_F3\n",
       "ARPP21   3714     4842     2968     3752     4125        8464       \n",
       "ATP6AP1L 2077     1961     2090     1422     1398        1265       \n",
       "B3GALT2  1706     2071     1788     1718     1408         773       \n",
       "C9orf116   48       31       26       25       71          67       \n",
       "CALB1     322      485      321      280      432        1503       \n",
       "CCDC80    160      219      164      149      167          77       \n",
       "         Control3_F3 Control4_F3\n",
       "ARPP21   8318        6903       \n",
       "ATP6AP1L 1532        1050       \n",
       "B3GALT2  1293         778       \n",
       "C9orf116   43          83       \n",
       "CALB1    1429         879       \n",
       "CCDC80    100          90       "
      ]
     },
     "metadata": {},
     "output_type": "display_data"
    }
   ],
   "source": [
    "datah<-(t(data[,1:29]))\n",
    "head(datah)"
   ]
  },
  {
   "cell_type": "code",
   "execution_count": 113,
   "metadata": {
    "collapsed": false
   },
   "outputs": [
    {
     "name": "stderr",
     "output_type": "stream",
     "text": [
      "Warning message:\n",
      "\"package 'gplots' was built under R version 3.2.5\"\n",
      "Attaching package: 'gplots'\n",
      "\n",
      "The following object is masked from 'package:stats':\n",
      "\n",
      "    lowess\n",
      "\n"
     ]
    },
    {
     "data": {
      "image/png": "[encoded data removed]",
      "text/plain": [
       "plot without title"
      ]
     },
     "metadata": {},
     "output_type": "display_data"
    }
   ],
   "source": [
    "library(heatmap3)\n",
    "library(ggplot2)\n",
    "library(gplots)\n",
    "heatmap3(datah, Rowv = NULL, Colv = NULL,\n",
    "  distfun = function(x) as.dist(1 - cor(t(x), use = \"pa\")),\n",
    "  balanceColor = F,showColDendro = T,\n",
    "  showRowDendro = T, col = greenred(105), legendfun, method = \"complete\", ColAxisColors = 0,\n",
    "  RowAxisColors = 7, hclustfun = hclust, reorderfun = function(d, w)\n",
    "  reorder(d, w), add.expr, symm = FALSE,\n",
    "  scale = \"row\", na.rm = TRUE, \n",
    "  ColSideWidth = 0.4, \n",
    "  file = \"heatmap3.pdf\", topN = NA, filterFun = sd, margins = c(5, 5), lasRow = 2, lasCol = 2,\n",
    "  labRow =colnames(data), labCol = NULL , main = NULL, xlab = NULL, ylab = NULL,\n",
    "  keep.dendro = FALSE, verbose = getOption(\"verbose\"))\n",
    "      \n",
    "## This is a heatmap with hierarchical clustering of both the treatment groups as well as the genes and behaviors"
   ]
  },
  {
   "cell_type": "code",
   "execution_count": 15,
   "metadata": {
    "collapsed": false
   },
   "outputs": [
    {
     "data": {
      "text/html": [
       "<table>\n",
       "<thead><tr><th></th><th scope=col>Beta1_F1</th><th scope=col>Beta2_F1</th><th scope=col>Beta3_F1</th><th scope=col>Beta4_F1</th><th scope=col>Control1_F1</th><th scope=col>Control2_F1</th><th scope=col>Control3_F1</th><th scope=col>Control4_F1</th><th scope=col>Beta1_F2</th><th scope=col>Beta2_F2</th><th scope=col>...</th><th scope=col>Control3_F2</th><th scope=col>Control4_F2</th><th scope=col>Beta1_F3</th><th scope=col>Beta2_F3</th><th scope=col>Beta3_F3</th><th scope=col>Beta4_F3</th><th scope=col>Control1_F3</th><th scope=col>Control2_F3</th><th scope=col>Control3_F3</th><th scope=col>Control4_F3</th></tr></thead>\n",
       "<tbody>\n",
       "\t<tr><th scope=row>ARPP21</th><td>3430</td><td>3193</td><td>4427</td><td>3836</td><td>9818</td><td>3802</td><td>5880</td><td>8455</td><td>3505</td><td>3005</td><td>... </td><td>3737</td><td>4255</td><td>3714</td><td>4842</td><td>2968</td><td>3752</td><td>4125</td><td>8464</td><td>8318</td><td>6903</td></tr>\n",
       "\t<tr><th scope=row>ATP6AP1L</th><td>1607</td><td>1683</td><td>2056</td><td>2555</td><td>1733</td><td> 777</td><td> 764</td><td> 944</td><td>2110</td><td>1667</td><td>... </td><td>2169</td><td>1991</td><td>2077</td><td>1961</td><td>2090</td><td>1422</td><td>1398</td><td>1265</td><td>1532</td><td>1050</td></tr>\n",
       "\t<tr><th scope=row>B3GALT2</th><td>2086</td><td>1751</td><td>1261</td><td>1753</td><td> 935</td><td>1052</td><td> 848</td><td> 783</td><td>2129</td><td>1099</td><td>... </td><td>1004</td><td> 933</td><td>1706</td><td>2071</td><td>1788</td><td>1718</td><td>1408</td><td> 773</td><td>1293</td><td> 778</td></tr>\n",
       "\t<tr><th scope=row>C9orf116</th><td>  30</td><td>  32</td><td>  14</td><td>  30</td><td>  95</td><td>  41</td><td>  54</td><td>  86</td><td>  26</td><td>  37</td><td>... </td><td>  54</td><td>  49</td><td>  48</td><td>  31</td><td>  26</td><td>  25</td><td>  71</td><td>  67</td><td>  43</td><td>  83</td></tr>\n",
       "\t<tr><th scope=row>CALB1</th><td> 497</td><td> 489</td><td> 364</td><td> 520</td><td>2647</td><td> 572</td><td>1008</td><td>1868</td><td> 272</td><td> 399</td><td>... </td><td> 634</td><td> 653</td><td> 322</td><td> 485</td><td> 321</td><td> 280</td><td> 432</td><td>1503</td><td>1429</td><td> 879</td></tr>\n",
       "\t<tr><th scope=row>CCDC80</th><td> 260</td><td> 136</td><td> 125</td><td> 247</td><td> 120</td><td>  89</td><td>  70</td><td>  82</td><td> 259</td><td>  81</td><td>... </td><td>  57</td><td>  64</td><td> 160</td><td> 219</td><td> 164</td><td> 149</td><td> 167</td><td>  77</td><td> 100</td><td>  90</td></tr>\n",
       "</tbody>\n",
       "</table>\n"
      ],
      "text/latex": [
       "\\begin{tabular}{r|llllllllllllllllllllllll}\n",
       "  & Beta1\\_F1 & Beta2\\_F1 & Beta3\\_F1 & Beta4\\_F1 & Control1\\_F1 & Control2\\_F1 & Control3\\_F1 & Control4\\_F1 & Beta1\\_F2 & Beta2\\_F2 & ... & Control3\\_F2 & Control4\\_F2 & Beta1\\_F3 & Beta2\\_F3 & Beta3\\_F3 & Beta4\\_F3 & Control1\\_F3 & Control2\\_F3 & Control3\\_F3 & Control4\\_F3\\\\\n",
       "\\hline\n",
       "\tARPP21 & 3430 & 3193 & 4427 & 3836 & 9818 & 3802 & 5880 & 8455 & 3505 & 3005 & ...  & 3737 & 4255 & 3714 & 4842 & 2968 & 3752 & 4125 & 8464 & 8318 & 6903\\\\\n",
       "\tATP6AP1L & 1607 & 1683 & 2056 & 2555 & 1733 &  777 &  764 &  944 & 2110 & 1667 & ...  & 2169 & 1991 & 2077 & 1961 & 2090 & 1422 & 1398 & 1265 & 1532 & 1050\\\\\n",
       "\tB3GALT2 & 2086 & 1751 & 1261 & 1753 &  935 & 1052 &  848 &  783 & 2129 & 1099 & ...  & 1004 &  933 & 1706 & 2071 & 1788 & 1718 & 1408 &  773 & 1293 &  778\\\\\n",
       "\tC9orf116 &   30 &   32 &   14 &   30 &   95 &   41 &   54 &   86 &   26 &   37 & ...  &   54 &   49 &   48 &   31 &   26 &   25 &   71 &   67 &   43 &   83\\\\\n",
       "\tCALB1 &  497 &  489 &  364 &  520 & 2647 &  572 & 1008 & 1868 &  272 &  399 & ...  &  634 &  653 &  322 &  485 &  321 &  280 &  432 & 1503 & 1429 &  879\\\\\n",
       "\tCCDC80 &  260 &  136 &  125 &  247 &  120 &   89 &   70 &   82 &  259 &   81 & ...  &   57 &   64 &  160 &  219 &  164 &  149 &  167 &   77 &  100 &   90\\\\\n",
       "\\end{tabular}\n"
      ],
      "text/markdown": [
       "\n",
       "| <!--/--> | Beta1_F1 | Beta2_F1 | Beta3_F1 | Beta4_F1 | Control1_F1 | Control2_F1 | Control3_F1 | Control4_F1 | Beta1_F2 | Beta2_F2 | ... | Control3_F2 | Control4_F2 | Beta1_F3 | Beta2_F3 | Beta3_F3 | Beta4_F3 | Control1_F3 | Control2_F3 | Control3_F3 | Control4_F3 | \n",
       "|---|---|---|---|---|---|\n",
       "| ARPP21 | 3430 | 3193 | 4427 | 3836 | 9818 | 3802 | 5880 | 8455 | 3505 | 3005 | ...  | 3737 | 4255 | 3714 | 4842 | 2968 | 3752 | 4125 | 8464 | 8318 | 6903 | \n",
       "| ATP6AP1L | 1607 | 1683 | 2056 | 2555 | 1733 |  777 |  764 |  944 | 2110 | 1667 | ...  | 2169 | 1991 | 2077 | 1961 | 2090 | 1422 | 1398 | 1265 | 1532 | 1050 | \n",
       "| B3GALT2 | 2086 | 1751 | 1261 | 1753 |  935 | 1052 |  848 |  783 | 2129 | 1099 | ...  | 1004 |  933 | 1706 | 2071 | 1788 | 1718 | 1408 |  773 | 1293 |  778 | \n",
       "| C9orf116 |   30 |   32 |   14 |   30 |   95 |   41 |   54 |   86 |   26 |   37 | ...  |   54 |   49 |   48 |   31 |   26 |   25 |   71 |   67 |   43 |   83 | \n",
       "| CALB1 |  497 |  489 |  364 |  520 | 2647 |  572 | 1008 | 1868 |  272 |  399 | ...  |  634 |  653 |  322 |  485 |  321 |  280 |  432 | 1503 | 1429 |  879 | \n",
       "| CCDC80 |  260 |  136 |  125 |  247 |  120 |   89 |   70 |   82 |  259 |   81 | ...  |   57 |   64 |  160 |  219 |  164 |  149 |  167 |   77 |  100 |   90 | \n",
       "\n",
       "\n"
      ],
      "text/plain": [
       "         Beta1_F1 Beta2_F1 Beta3_F1 Beta4_F1 Control1_F1 Control2_F1\n",
       "ARPP21   3430     3193     4427     3836     9818        3802       \n",
       "ATP6AP1L 1607     1683     2056     2555     1733         777       \n",
       "B3GALT2  2086     1751     1261     1753      935        1052       \n",
       "C9orf116   30       32       14       30       95          41       \n",
       "CALB1     497      489      364      520     2647         572       \n",
       "CCDC80    260      136      125      247      120          89       \n",
       "         Control3_F1 Control4_F1 Beta1_F2 Beta2_F2 ... Control3_F2 Control4_F2\n",
       "ARPP21   5880        8455        3505     3005     ... 3737        4255       \n",
       "ATP6AP1L  764         944        2110     1667     ... 2169        1991       \n",
       "B3GALT2   848         783        2129     1099     ... 1004         933       \n",
       "C9orf116   54          86          26       37     ...   54          49       \n",
       "CALB1    1008        1868         272      399     ...  634         653       \n",
       "CCDC80     70          82         259       81     ...   57          64       \n",
       "         Beta1_F3 Beta2_F3 Beta3_F3 Beta4_F3 Control1_F3 Control2_F3\n",
       "ARPP21   3714     4842     2968     3752     4125        8464       \n",
       "ATP6AP1L 2077     1961     2090     1422     1398        1265       \n",
       "B3GALT2  1706     2071     1788     1718     1408         773       \n",
       "C9orf116   48       31       26       25       71          67       \n",
       "CALB1     322      485      321      280      432        1503       \n",
       "CCDC80    160      219      164      149      167          77       \n",
       "         Control3_F3 Control4_F3\n",
       "ARPP21   8318        6903       \n",
       "ATP6AP1L 1532        1050       \n",
       "B3GALT2  1293         778       \n",
       "C9orf116   43          83       \n",
       "CALB1    1429         879       \n",
       "CCDC80    100          90       "
      ]
     },
     "metadata": {},
     "output_type": "display_data"
    }
   ],
   "source": [
    "## Since Beta2_F2, Beta4_F2 and Control2_F1 don't fall with their proper treatment groups, we eliminate these samples \n",
    "## for the purposes of building a model\n",
    "datah<-(t(data[,1:29]))\n",
    "Group<- data[,30]\n",
    "head(datah)"
   ]
  },
  {
   "cell_type": "code",
   "execution_count": 12,
   "metadata": {
    "collapsed": false
   },
   "outputs": [
    {
     "data": {
      "text/html": [
       "<table>\n",
       "<thead><tr><th></th><th scope=col>Beta1_F1</th><th scope=col>Beta2_F1</th><th scope=col>Beta3_F1</th><th scope=col>Beta4_F1</th><th scope=col>Control1_F1</th><th scope=col>Control3_F1</th><th scope=col>Control4_F1</th><th scope=col>Beta1_F2</th><th scope=col>Beta3_F2</th><th scope=col>Control1_F2</th><th scope=col>...</th><th scope=col>Control3_F2</th><th scope=col>Control4_F2</th><th scope=col>Beta1_F3</th><th scope=col>Beta2_F3</th><th scope=col>Beta3_F3</th><th scope=col>Beta4_F3</th><th scope=col>Control1_F3</th><th scope=col>Control2_F3</th><th scope=col>Control3_F3</th><th scope=col>Control4_F3</th></tr></thead>\n",
       "<tbody>\n",
       "\t<tr><th scope=row>ARPP21</th><td>3430</td><td>3193</td><td>4427</td><td>3836</td><td>9818</td><td>5880</td><td>8455</td><td>3505</td><td>2481</td><td>3632</td><td>... </td><td>3737</td><td>4255</td><td>3714</td><td>4842</td><td>2968</td><td>3752</td><td>4125</td><td>8464</td><td>8318</td><td>6903</td></tr>\n",
       "\t<tr><th scope=row>ATP6AP1L</th><td>1607</td><td>1683</td><td>2056</td><td>2555</td><td>1733</td><td> 764</td><td> 944</td><td>2110</td><td>1515</td><td>2185</td><td>... </td><td>2169</td><td>1991</td><td>2077</td><td>1961</td><td>2090</td><td>1422</td><td>1398</td><td>1265</td><td>1532</td><td>1050</td></tr>\n",
       "\t<tr><th scope=row>B3GALT2</th><td>2086</td><td>1751</td><td>1261</td><td>1753</td><td> 935</td><td> 848</td><td> 783</td><td>2129</td><td>1662</td><td>1105</td><td>... </td><td>1004</td><td> 933</td><td>1706</td><td>2071</td><td>1788</td><td>1718</td><td>1408</td><td> 773</td><td>1293</td><td> 778</td></tr>\n",
       "\t<tr><th scope=row>C9orf116</th><td>  30</td><td>  32</td><td>  14</td><td>  30</td><td>  95</td><td>  54</td><td>  86</td><td>  26</td><td>  23</td><td>  35</td><td>... </td><td>  54</td><td>  49</td><td>  48</td><td>  31</td><td>  26</td><td>  25</td><td>  71</td><td>  67</td><td>  43</td><td>  83</td></tr>\n",
       "\t<tr><th scope=row>CALB1</th><td> 497</td><td> 489</td><td> 364</td><td> 520</td><td>2647</td><td>1008</td><td>1868</td><td> 272</td><td> 258</td><td> 390</td><td>... </td><td> 634</td><td> 653</td><td> 322</td><td> 485</td><td> 321</td><td> 280</td><td> 432</td><td>1503</td><td>1429</td><td> 879</td></tr>\n",
       "\t<tr><th scope=row>CCDC80</th><td> 260</td><td> 136</td><td> 125</td><td> 247</td><td> 120</td><td>  70</td><td>  82</td><td> 259</td><td> 203</td><td> 113</td><td>... </td><td>  57</td><td>  64</td><td> 160</td><td> 219</td><td> 164</td><td> 149</td><td> 167</td><td>  77</td><td> 100</td><td>  90</td></tr>\n",
       "</tbody>\n",
       "</table>\n"
      ],
      "text/latex": [
       "\\begin{tabular}{r|lllllllllllllllllllll}\n",
       "  & Beta1\\_F1 & Beta2\\_F1 & Beta3\\_F1 & Beta4\\_F1 & Control1\\_F1 & Control3\\_F1 & Control4\\_F1 & Beta1\\_F2 & Beta3\\_F2 & Control1\\_F2 & ... & Control3\\_F2 & Control4\\_F2 & Beta1\\_F3 & Beta2\\_F3 & Beta3\\_F3 & Beta4\\_F3 & Control1\\_F3 & Control2\\_F3 & Control3\\_F3 & Control4\\_F3\\\\\n",
       "\\hline\n",
       "\tARPP21 & 3430 & 3193 & 4427 & 3836 & 9818 & 5880 & 8455 & 3505 & 2481 & 3632 & ...  & 3737 & 4255 & 3714 & 4842 & 2968 & 3752 & 4125 & 8464 & 8318 & 6903\\\\\n",
       "\tATP6AP1L & 1607 & 1683 & 2056 & 2555 & 1733 &  764 &  944 & 2110 & 1515 & 2185 & ...  & 2169 & 1991 & 2077 & 1961 & 2090 & 1422 & 1398 & 1265 & 1532 & 1050\\\\\n",
       "\tB3GALT2 & 2086 & 1751 & 1261 & 1753 &  935 &  848 &  783 & 2129 & 1662 & 1105 & ...  & 1004 &  933 & 1706 & 2071 & 1788 & 1718 & 1408 &  773 & 1293 &  778\\\\\n",
       "\tC9orf116 &   30 &   32 &   14 &   30 &   95 &   54 &   86 &   26 &   23 &   35 & ...  &   54 &   49 &   48 &   31 &   26 &   25 &   71 &   67 &   43 &   83\\\\\n",
       "\tCALB1 &  497 &  489 &  364 &  520 & 2647 & 1008 & 1868 &  272 &  258 &  390 & ...  &  634 &  653 &  322 &  485 &  321 &  280 &  432 & 1503 & 1429 &  879\\\\\n",
       "\tCCDC80 &  260 &  136 &  125 &  247 &  120 &   70 &   82 &  259 &  203 &  113 & ...  &   57 &   64 &  160 &  219 &  164 &  149 &  167 &   77 &  100 &   90\\\\\n",
       "\\end{tabular}\n"
      ],
      "text/markdown": [
       "\n",
       "| <!--/--> | Beta1_F1 | Beta2_F1 | Beta3_F1 | Beta4_F1 | Control1_F1 | Control3_F1 | Control4_F1 | Beta1_F2 | Beta3_F2 | Control1_F2 | ... | Control3_F2 | Control4_F2 | Beta1_F3 | Beta2_F3 | Beta3_F3 | Beta4_F3 | Control1_F3 | Control2_F3 | Control3_F3 | Control4_F3 | \n",
       "|---|---|---|---|---|---|\n",
       "| ARPP21 | 3430 | 3193 | 4427 | 3836 | 9818 | 5880 | 8455 | 3505 | 2481 | 3632 | ...  | 3737 | 4255 | 3714 | 4842 | 2968 | 3752 | 4125 | 8464 | 8318 | 6903 | \n",
       "| ATP6AP1L | 1607 | 1683 | 2056 | 2555 | 1733 |  764 |  944 | 2110 | 1515 | 2185 | ...  | 2169 | 1991 | 2077 | 1961 | 2090 | 1422 | 1398 | 1265 | 1532 | 1050 | \n",
       "| B3GALT2 | 2086 | 1751 | 1261 | 1753 |  935 |  848 |  783 | 2129 | 1662 | 1105 | ...  | 1004 |  933 | 1706 | 2071 | 1788 | 1718 | 1408 |  773 | 1293 |  778 | \n",
       "| C9orf116 |   30 |   32 |   14 |   30 |   95 |   54 |   86 |   26 |   23 |   35 | ...  |   54 |   49 |   48 |   31 |   26 |   25 |   71 |   67 |   43 |   83 | \n",
       "| CALB1 |  497 |  489 |  364 |  520 | 2647 | 1008 | 1868 |  272 |  258 |  390 | ...  |  634 |  653 |  322 |  485 |  321 |  280 |  432 | 1503 | 1429 |  879 | \n",
       "| CCDC80 |  260 |  136 |  125 |  247 |  120 |   70 |   82 |  259 |  203 |  113 | ...  |   57 |   64 |  160 |  219 |  164 |  149 |  167 |   77 |  100 |   90 | \n",
       "\n",
       "\n"
      ],
      "text/plain": [
       "         Beta1_F1 Beta2_F1 Beta3_F1 Beta4_F1 Control1_F1 Control3_F1\n",
       "ARPP21   3430     3193     4427     3836     9818        5880       \n",
       "ATP6AP1L 1607     1683     2056     2555     1733         764       \n",
       "B3GALT2  2086     1751     1261     1753      935         848       \n",
       "C9orf116   30       32       14       30       95          54       \n",
       "CALB1     497      489      364      520     2647        1008       \n",
       "CCDC80    260      136      125      247      120          70       \n",
       "         Control4_F1 Beta1_F2 Beta3_F2 Control1_F2 ... Control3_F2 Control4_F2\n",
       "ARPP21   8455        3505     2481     3632        ... 3737        4255       \n",
       "ATP6AP1L  944        2110     1515     2185        ... 2169        1991       \n",
       "B3GALT2   783        2129     1662     1105        ... 1004         933       \n",
       "C9orf116   86          26       23       35        ...   54          49       \n",
       "CALB1    1868         272      258      390        ...  634         653       \n",
       "CCDC80     82         259      203      113        ...   57          64       \n",
       "         Beta1_F3 Beta2_F3 Beta3_F3 Beta4_F3 Control1_F3 Control2_F3\n",
       "ARPP21   3714     4842     2968     3752     4125        8464       \n",
       "ATP6AP1L 2077     1961     2090     1422     1398        1265       \n",
       "B3GALT2  1706     2071     1788     1718     1408         773       \n",
       "C9orf116   48       31       26       25       71          67       \n",
       "CALB1     322      485      321      280      432        1503       \n",
       "CCDC80    160      219      164      149      167          77       \n",
       "         Control3_F3 Control4_F3\n",
       "ARPP21   8318        6903       \n",
       "ATP6AP1L 1532        1050       \n",
       "B3GALT2  1293         778       \n",
       "C9orf116   43          83       \n",
       "CALB1    1429         879       \n",
       "CCDC80    100          90       "
      ]
     },
     "metadata": {},
     "output_type": "display_data"
    }
   ],
   "source": [
    "datah<-as.data.frame(datah)\n",
    "data_orm <- within(datah, rm(Beta2_F2,Beta4_F2,Control2_F1))\n",
    "head(data_orm)\n",
    "\n",
    "data_ormt<- as.data.frame(t(data_orm))"
   ]
  },
  {
   "cell_type": "code",
   "execution_count": 115,
   "metadata": {
    "collapsed": false
   },
   "outputs": [
    {
     "data": {
      "image/png": "[encoded data removed]",
      "text/plain": [
       "plot without title"
      ]
     },
     "metadata": {},
     "output_type": "display_data"
    }
   ],
   "source": [
    "## This is a heatmap of how the treatment groups separate over the 3 generations once previous outliers have been revmoved. \n",
    "## of note, F2 controls see distinct from F1 and F3 control samples\n",
    "library(heatmap3)\n",
    "library(ggplot2)\n",
    "library(gplots)\n",
    "heatmap3(data_orm, Rowv = NULL, Colv = NULL,\n",
    "  distfun = function(x) as.dist(1 - cor(t(x), use = \"pa\")),\n",
    "  balanceColor = F,showColDendro = T,\n",
    "  showRowDendro = T, col = greenred(105), legendfun, method = \"complete\", ColAxisColors = 0,\n",
    "  RowAxisColors = 7, hclustfun = hclust, reorderfun = function(d, w)\n",
    "  reorder(d, w), add.expr, symm = FALSE,\n",
    "  scale = \"row\", na.rm = TRUE, \n",
    "  ColSideWidth = 0.4, \n",
    "  file = \"heatmap3.pdf\", topN = NA, filterFun = sd, margins = c(5, 5), lasRow = 2, lasCol = 2,\n",
    "  labRow =colnames(data), labCol = NULL , main = NULL, xlab = NULL, ylab = NULL,\n",
    "  keep.dendro = FALSE, verbose = getOption(\"verbose\"))"
   ]
  },
  {
   "cell_type": "code",
   "execution_count": 132,
   "metadata": {
    "collapsed": false
   },
   "outputs": [
    {
     "data": {},
     "metadata": {},
     "output_type": "display_data"
    },
    {
     "data": {
      "image/png": "[encoded data removed]",
      "text/plain": [
       "plot without title"
      ]
     },
     "metadata": {},
     "output_type": "display_data"
    }
   ],
   "source": [
    "pca2<-prcomp(data_ormt,\n",
    "                center = TRUE,\n",
    "                 scale. = TRUE)\n",
    "\n",
    "library(ggbiplot)\n",
    "library(plotly)\n",
    "b <- ggbiplot(pca2, obs.scale = 1, var.scale = 1, ellipse = TRUE,varname.size = 3, varname.adjust = 3, \n",
    "              circle = TRUE)\n",
    "b <- b + scale_color_discrete(name = '')\n",
    "b <- b + theme(legend.direction = 'horizontal', \n",
    "               legend.position = 'top',\n",
    "               axis.line = element_line(colour = \"black\", size = 1),\n",
    "               panel.background= element_rect(fill = 'white'))\n",
    "b"
   ]
  },
  {
   "cell_type": "code",
   "execution_count": 142,
   "metadata": {
    "collapsed": false
   },
   "outputs": [
    {
     "data": {
      "text/plain": [
       "\n",
       "Call:\n",
       "lm(formula = OFA1_Total ~ B3GALT2 + GARNL3 + GABRA3 + NRIP3, \n",
       "    data = data_ormt)\n",
       "\n",
       "Residuals:\n",
       "    Min      1Q  Median      3Q     Max \n",
       "-570.92 -387.50   89.72  251.76  935.97 \n",
       "\n",
       "Coefficients:\n",
       "             Estimate Std. Error t value Pr(>|t|)    \n",
       "(Intercept)  79.49563  483.29818   0.164 0.871409    \n",
       "B3GALT2       2.88441    0.64252   4.489 0.000372 ***\n",
       "GARNL3       -2.86516    0.75688  -3.785 0.001622 ** \n",
       "GABRA3        0.30278    0.07789   3.887 0.001309 ** \n",
       "NRIP3        -0.05450    0.02699  -2.019 0.060562 .  \n",
       "---\n",
       "Signif. codes:  0 '***' 0.001 '**' 0.01 '*' 0.05 '.' 0.1 ' ' 1\n",
       "\n",
       "Residual standard error: 455.4 on 16 degrees of freedom\n",
       "Multiple R-squared:  0.7225,\tAdjusted R-squared:  0.6531 \n",
       "F-statistic: 10.41 on 4 and 16 DF,  p-value: 0.0002384\n"
      ]
     },
     "metadata": {},
     "output_type": "display_data"
    }
   ],
   "source": [
    "model2 = lm(OFA1_Total ~ B3GALT2+GARNL3+GABRA3+NRIP3, data= data_ormt)\n",
    "summary(model2)\n",
    "### This model works on my data when the outliers are removed"
   ]
  },
  {
   "cell_type": "code",
   "execution_count": 53,
   "metadata": {
    "collapsed": false
   },
   "outputs": [
    {
     "data": {
      "text/plain": [
       "\n",
       "Call:\n",
       "lm(formula = OFA1_Total ~ NRIP3 + B3GALT2 + GARNL3 + GABRA3, \n",
       "    data = F1)\n",
       "\n",
       "Residuals:\n",
       "   Beta1_F1    Beta2_F1    Beta3_F1    Beta4_F1 Control1_F1 Control2_F1 \n",
       "      69.67      -21.12     -261.41       90.16      -16.22      -36.61 \n",
       "Control3_F1 Control4_F1 \n",
       "    -315.69      491.22 \n",
       "\n",
       "Coefficients:\n",
       "              Estimate Std. Error t value Pr(>|t|)\n",
       "(Intercept) -1.028e+03  7.432e+02  -1.383    0.261\n",
       "NRIP3       -6.606e-02  6.158e-02  -1.073    0.362\n",
       "B3GALT2      2.288e+00  9.789e-01   2.338    0.101\n",
       "GARNL3      -2.264e+00  1.470e+00  -1.540    0.221\n",
       "GABRA3       5.601e-01  3.361e-01   1.666    0.194\n",
       "\n",
       "Residual standard error: 376.1 on 3 degrees of freedom\n",
       "Multiple R-squared:  0.9148,\tAdjusted R-squared:  0.8011 \n",
       "F-statistic: 8.049 on 4 and 3 DF,  p-value: 0.05903\n"
      ]
     },
     "metadata": {},
     "output_type": "display_data"
    }
   ],
   "source": [
    "F1 = data[1:8,]\n",
    "modelF1 = lm(OFA1_Total ~ NRIP3+B3GALT2+GARNL3+GABRA3, data= F1)\n",
    "summary(modelF1)\n",
    "### This model works on F1 data"
   ]
  },
  {
   "cell_type": "code",
   "execution_count": 54,
   "metadata": {
    "collapsed": false
   },
   "outputs": [
    {
     "data": {
      "text/plain": [
       "\n",
       "Call:\n",
       "lm(formula = OFA1_Total ~ NRIP3 + B3GALT2 + GARNL3 + GABRA3, \n",
       "    data = F3)\n",
       "\n",
       "Residuals:\n",
       "   Beta1_F3    Beta2_F3    Beta3_F3    Beta4_F3 Control1_F3 Control2_F3 \n",
       "    -54.437     -40.521     226.399       8.907    -129.348    -620.898 \n",
       "Control3_F3 Control4_F3 \n",
       "   -108.231     718.130 \n",
       "\n",
       "Coefficients:\n",
       "             Estimate Std. Error t value Pr(>|t|)  \n",
       "(Intercept) -512.8199   953.5036  -0.538   0.6280  \n",
       "NRIP3         -0.3975     0.1777  -2.236   0.1113  \n",
       "B3GALT2        3.7558     1.3968   2.689   0.0745 .\n",
       "GARNL3        -2.0318     1.8023  -1.127   0.3416  \n",
       "GABRA3         0.3390     0.5321   0.637   0.5694  \n",
       "---\n",
       "Signif. codes:  0 '***' 0.001 '**' 0.01 '*' 0.05 '.' 0.1 ' ' 1\n",
       "\n",
       "Residual standard error: 573.2 on 3 degrees of freedom\n",
       "Multiple R-squared:  0.7456,\tAdjusted R-squared:  0.4063 \n",
       "F-statistic: 2.198 on 4 and 3 DF,  p-value: 0.2719\n"
      ]
     },
     "metadata": {},
     "output_type": "display_data"
    }
   ],
   "source": [
    "F3 = data[17:24,]\n",
    "modelF3 = lm(OFA1_Total ~ NRIP3+B3GALT2+GARNL3+GABRA3, data= F3)\n",
    "summary(modelF3)\n",
    "### This model works on F3 data, not significant but strong R2"
   ]
  },
  {
   "cell_type": "code",
   "execution_count": 74,
   "metadata": {
    "collapsed": false
   },
   "outputs": [
    {
     "data": {
      "text/plain": [
       "\n",
       "Call:\n",
       "lm(formula = OFA1_Total ~ NRIP3 + B3GALT2 + GARNL3 + GABRA3, \n",
       "    data = F2)\n",
       "\n",
       "Residuals:\n",
       "   Beta1_F2    Beta2_F2    Beta3_F2    Beta4_F2 Control1_F2 Control2_F2 \n",
       "      22.32     -155.63       44.84       87.43     -240.79     -224.97 \n",
       "Control3_F2 Control4_F2 \n",
       "     207.25      259.56 \n",
       "\n",
       "Coefficients:\n",
       "             Estimate Std. Error t value Pr(>|t|)  \n",
       "(Intercept) 4613.9563  1140.8523   4.044   0.0272 *\n",
       "NRIP3         -0.1523     0.1348  -1.129   0.3409  \n",
       "B3GALT2        3.6908     1.1459   3.221   0.0486 *\n",
       "GARNL3        -3.2507     1.2524  -2.595   0.0807 .\n",
       "GABRA3        -0.4181     0.1948  -2.146   0.1211  \n",
       "---\n",
       "Signif. codes:  0 '***' 0.001 '**' 0.01 '*' 0.05 '.' 0.1 ' ' 1\n",
       "\n",
       "Residual standard error: 290.6 on 3 degrees of freedom\n",
       "Multiple R-squared:  0.7975,\tAdjusted R-squared:  0.5275 \n",
       "F-statistic: 2.954 on 4 and 3 DF,  p-value: 0.2001\n"
      ]
     },
     "metadata": {},
     "output_type": "display_data"
    }
   ],
   "source": [
    "F2 = data[9:16,]\n",
    "modelF2 = lm(OFA1_Total ~ NRIP3+B3GALT2+GARNL3+GABRA3, data= F2)\n",
    "summary(modelF2)\n",
    "### This model works on F2 data, with outliers not removed. Not significant but strong R2"
   ]
  },
  {
   "cell_type": "code",
   "execution_count": 64,
   "metadata": {
    "collapsed": false
   },
   "outputs": [
    {
     "data": {
      "text/html": [
       "<table>\n",
       "<thead><tr><th></th><th scope=col>ARPP21</th><th scope=col>ATP6AP1L</th><th scope=col>B3GALT2</th><th scope=col>C9orf116</th><th scope=col>CALB1</th><th scope=col>CCDC80</th><th scope=col>CREB3L1</th><th scope=col>CTXN3</th><th scope=col>DACH1</th><th scope=col>GABRA3</th><th scope=col>...</th><th scope=col>SYNJ2</th><th scope=col>VSTM2L</th><th scope=col>OF_HPA1_T_AUC</th><th scope=col>OF_HPA1_Net_AUC</th><th scope=col>OF_HPA2_T_AUC</th><th scope=col>OF_HPA2_Net_AUC</th><th scope=col>OFA1_Total</th><th scope=col>OFA2_Total</th><th scope=col>Startle</th><th scope=col>Group</th></tr></thead>\n",
       "<tbody>\n",
       "\t<tr><th scope=row>Beta1_F1</th><td>3430    </td><td>1607    </td><td>2086    </td><td>30      </td><td> 497    </td><td>260     </td><td>482     </td><td>2023    </td><td>133     </td><td>6661    </td><td>...     </td><td>2651    </td><td>1275    </td><td>1695    </td><td>1338.00 </td><td>2269    </td><td>1993.0  </td><td>2631    </td><td> 263    </td><td>492.43  </td><td>Beta    </td></tr>\n",
       "\t<tr><th scope=row>Beta2_F1</th><td>3193    </td><td>1683    </td><td>1751    </td><td>32      </td><td> 489    </td><td>136     </td><td>386     </td><td>1789    </td><td> 73     </td><td>6050    </td><td>...     </td><td>3080    </td><td> 800    </td><td>2901    </td><td>1768.00 </td><td>2336    </td><td>1536.0  </td><td>1417    </td><td>  43    </td><td>712.38  </td><td>Beta    </td></tr>\n",
       "\t<tr><th scope=row>Beta3_F1</th><td>4427    </td><td>2056    </td><td>1261    </td><td>14      </td><td> 364    </td><td>125     </td><td>346     </td><td>1289    </td><td>119     </td><td>4921    </td><td>...     </td><td>2570    </td><td>1412    </td><td>1436    </td><td> 588.80 </td><td>2045    </td><td>1868.0  </td><td> 344    </td><td> 956    </td><td>360.00  </td><td>Beta    </td></tr>\n",
       "\t<tr><th scope=row>Beta4_F1</th><td>3836    </td><td>2555    </td><td>1753    </td><td>30      </td><td> 520    </td><td>247     </td><td>482     </td><td>2737    </td><td>129     </td><td>5432    </td><td>...     </td><td>3420    </td><td> 803    </td><td>2327    </td><td> 570.60 </td><td>2821    </td><td>1808.0  </td><td> 551    </td><td>2203    </td><td>148.38  </td><td>Beta    </td></tr>\n",
       "\t<tr><th scope=row>Control1_F1</th><td>9818    </td><td>1733    </td><td> 935    </td><td>95      </td><td>2647    </td><td>120     </td><td>381     </td><td>1277    </td><td>393     </td><td>4692    </td><td>...     </td><td>2713    </td><td>2490    </td><td>1729    </td><td>1334.00 </td><td>2701    </td><td> -12.3  </td><td> 444    </td><td> 780    </td><td>141.50  </td><td>Control </td></tr>\n",
       "\t<tr><th scope=row>Control2_F1</th><td>3802    </td><td> 777    </td><td>1052    </td><td>41      </td><td> 572    </td><td> 89     </td><td>285     </td><td> 963    </td><td>121     </td><td>3407    </td><td>...     </td><td>1719    </td><td>1160    </td><td>1590    </td><td>  65.25 </td><td>2598    </td><td>1192.0  </td><td> 292    </td><td>1091    </td><td>190.50  </td><td>Control </td></tr>\n",
       "</tbody>\n",
       "</table>\n"
      ],
      "text/latex": [
       "\\begin{tabular}{r|llllllllllllllllllllllllllllll}\n",
       "  & ARPP21 & ATP6AP1L & B3GALT2 & C9orf116 & CALB1 & CCDC80 & CREB3L1 & CTXN3 & DACH1 & GABRA3 & ... & SYNJ2 & VSTM2L & OF\\_HPA1\\_T\\_AUC & OF\\_HPA1\\_Net\\_AUC & OF\\_HPA2\\_T\\_AUC & OF\\_HPA2\\_Net\\_AUC & OFA1\\_Total & OFA2\\_Total & Startle & Group\\\\\n",
       "\\hline\n",
       "\tBeta1\\_F1 & 3430     & 1607     & 2086     & 30       &  497     & 260      & 482      & 2023     & 133      & 6661     & ...      & 2651     & 1275     & 1695     & 1338.00  & 2269     & 1993.0   & 2631     &  263     & 492.43   & Beta    \\\\\n",
       "\tBeta2\\_F1 & 3193     & 1683     & 1751     & 32       &  489     & 136      & 386      & 1789     &  73      & 6050     & ...      & 3080     &  800     & 2901     & 1768.00  & 2336     & 1536.0   & 1417     &   43     & 712.38   & Beta    \\\\\n",
       "\tBeta3\\_F1 & 4427     & 2056     & 1261     & 14       &  364     & 125      & 346      & 1289     & 119      & 4921     & ...      & 2570     & 1412     & 1436     &  588.80  & 2045     & 1868.0   &  344     &  956     & 360.00   & Beta    \\\\\n",
       "\tBeta4\\_F1 & 3836     & 2555     & 1753     & 30       &  520     & 247      & 482      & 2737     & 129      & 5432     & ...      & 3420     &  803     & 2327     &  570.60  & 2821     & 1808.0   &  551     & 2203     & 148.38   & Beta    \\\\\n",
       "\tControl1\\_F1 & 9818     & 1733     &  935     & 95       & 2647     & 120      & 381      & 1277     & 393      & 4692     & ...      & 2713     & 2490     & 1729     & 1334.00  & 2701     &  -12.3   &  444     &  780     & 141.50   & Control \\\\\n",
       "\tControl2\\_F1 & 3802     &  777     & 1052     & 41       &  572     &  89      & 285      &  963     & 121      & 3407     & ...      & 1719     & 1160     & 1590     &   65.25  & 2598     & 1192.0   &  292     & 1091     & 190.50   & Control \\\\\n",
       "\\end{tabular}\n"
      ],
      "text/markdown": [
       "\n",
       "| <!--/--> | ARPP21 | ATP6AP1L | B3GALT2 | C9orf116 | CALB1 | CCDC80 | CREB3L1 | CTXN3 | DACH1 | GABRA3 | ... | SYNJ2 | VSTM2L | OF_HPA1_T_AUC | OF_HPA1_Net_AUC | OF_HPA2_T_AUC | OF_HPA2_Net_AUC | OFA1_Total | OFA2_Total | Startle | Group | \n",
       "|---|---|---|---|---|---|\n",
       "| Beta1_F1 | 3430     | 1607     | 2086     | 30       |  497     | 260      | 482      | 2023     | 133      | 6661     | ...      | 2651     | 1275     | 1695     | 1338.00  | 2269     | 1993.0   | 2631     |  263     | 492.43   | Beta     | \n",
       "| Beta2_F1 | 3193     | 1683     | 1751     | 32       |  489     | 136      | 386      | 1789     |  73      | 6050     | ...      | 3080     |  800     | 2901     | 1768.00  | 2336     | 1536.0   | 1417     |   43     | 712.38   | Beta     | \n",
       "| Beta3_F1 | 4427     | 2056     | 1261     | 14       |  364     | 125      | 346      | 1289     | 119      | 4921     | ...      | 2570     | 1412     | 1436     |  588.80  | 2045     | 1868.0   |  344     |  956     | 360.00   | Beta     | \n",
       "| Beta4_F1 | 3836     | 2555     | 1753     | 30       |  520     | 247      | 482      | 2737     | 129      | 5432     | ...      | 3420     |  803     | 2327     |  570.60  | 2821     | 1808.0   |  551     | 2203     | 148.38   | Beta     | \n",
       "| Control1_F1 | 9818     | 1733     |  935     | 95       | 2647     | 120      | 381      | 1277     | 393      | 4692     | ...      | 2713     | 2490     | 1729     | 1334.00  | 2701     |  -12.3   |  444     |  780     | 141.50   | Control  | \n",
       "| Control2_F1 | 3802     |  777     | 1052     | 41       |  572     |  89      | 285      |  963     | 121      | 3407     | ...      | 1719     | 1160     | 1590     |   65.25  | 2598     | 1192.0   |  292     | 1091     | 190.50   | Control  | \n",
       "\n",
       "\n"
      ],
      "text/plain": [
       "            ARPP21 ATP6AP1L B3GALT2 C9orf116 CALB1 CCDC80 CREB3L1 CTXN3 DACH1\n",
       "Beta1_F1    3430   1607     2086    30        497  260    482     2023  133  \n",
       "Beta2_F1    3193   1683     1751    32        489  136    386     1789   73  \n",
       "Beta3_F1    4427   2056     1261    14        364  125    346     1289  119  \n",
       "Beta4_F1    3836   2555     1753    30        520  247    482     2737  129  \n",
       "Control1_F1 9818   1733      935    95       2647  120    381     1277  393  \n",
       "Control2_F1 3802    777     1052    41        572   89    285      963  121  \n",
       "            GABRA3 ... SYNJ2 VSTM2L OF_HPA1_T_AUC OF_HPA1_Net_AUC OF_HPA2_T_AUC\n",
       "Beta1_F1    6661   ... 2651  1275   1695          1338.00         2269         \n",
       "Beta2_F1    6050   ... 3080   800   2901          1768.00         2336         \n",
       "Beta3_F1    4921   ... 2570  1412   1436           588.80         2045         \n",
       "Beta4_F1    5432   ... 3420   803   2327           570.60         2821         \n",
       "Control1_F1 4692   ... 2713  2490   1729          1334.00         2701         \n",
       "Control2_F1 3407   ... 1719  1160   1590            65.25         2598         \n",
       "            OF_HPA2_Net_AUC OFA1_Total OFA2_Total Startle Group   \n",
       "Beta1_F1    1993.0          2631        263       492.43  Beta    \n",
       "Beta2_F1    1536.0          1417         43       712.38  Beta    \n",
       "Beta3_F1    1868.0           344        956       360.00  Beta    \n",
       "Beta4_F1    1808.0           551       2203       148.38  Beta    \n",
       "Control1_F1  -12.3           444        780       141.50  Control \n",
       "Control2_F1 1192.0           292       1091       190.50  Control "
      ]
     },
     "metadata": {},
     "output_type": "display_data"
    }
   ],
   "source": [
    "head(data)"
   ]
  },
  {
   "cell_type": "code",
   "execution_count": 72,
   "metadata": {
    "collapsed": false
   },
   "outputs": [
    {
     "data": {
      "text/plain": [
       "\n",
       "Call:\n",
       "lm(formula = OFA1_Total ~ NRIP3 + B3GALT2 + GARNL3 + GABRA3, \n",
       "    data = data)\n",
       "\n",
       "Residuals:\n",
       "    Min      1Q  Median      3Q     Max \n",
       "-693.63 -372.23   -6.32  237.60 1107.91 \n",
       "\n",
       "Coefficients:\n",
       "             Estimate Std. Error t value Pr(>|t|)   \n",
       "(Intercept)  33.81458  520.35289   0.065  0.94887   \n",
       "NRIP3        -0.06020    0.03005  -2.003  0.05966 . \n",
       "B3GALT2       2.57816    0.72789   3.542  0.00218 **\n",
       "GARNL3       -2.49861    0.84653  -2.952  0.00819 **\n",
       "GABRA3        0.31630    0.08678   3.645  0.00172 **\n",
       "---\n",
       "Signif. codes:  0 '***' 0.001 '**' 0.01 '*' 0.05 '.' 0.1 ' ' 1\n",
       "\n",
       "Residual standard error: 523.8 on 19 degrees of freedom\n",
       "Multiple R-squared:  0.6155,\tAdjusted R-squared:  0.5346 \n",
       "F-statistic: 7.604 on 4 and 19 DF,  p-value: 0.0007797\n"
      ]
     },
     "metadata": {},
     "output_type": "display_data"
    }
   ],
   "source": [
    "model_Data = lm(OFA1_Total ~ NRIP3+B3GALT2+GARNL3+GABRA3, data= data)\n",
    "summary(model_Data)\n",
    "## Model still fits when outliers are not removed"
   ]
  },
  {
   "cell_type": "code",
   "execution_count": 76,
   "metadata": {
    "collapsed": false
   },
   "outputs": [
    {
     "data": {
      "text/html": [
       "<table>\n",
       "<thead><tr><th></th><th scope=col>NRIP3</th><th scope=col>B3GALT2</th><th scope=col>GARNL3</th><th scope=col>GABRA3</th><th scope=col>OFA1_Total</th><th scope=col>Predicted</th><th scope=col>Predicted_CV</th></tr></thead>\n",
       "<tbody>\n",
       "\t<tr><th scope=row>Beta1_F1</th><td>16732    </td><td>2086     </td><td>1683     </td><td>6661     </td><td>2631     </td><td>2306.3325</td><td>2034.5854</td></tr>\n",
       "\t<tr><th scope=row>Beta2_F1</th><td>13215    </td><td>1751     </td><td>1792     </td><td>6050     </td><td>1417     </td><td>1188.7558</td><td>1155.6994</td></tr>\n",
       "\t<tr><th scope=row>Beta3_F1</th><td>13871    </td><td>1261     </td><td>1366     </td><td>4921     </td><td> 344     </td><td> 593.2761</td><td> 640.0243</td></tr>\n",
       "\t<tr><th scope=row>Beta4_F1</th><td>22119    </td><td>1753     </td><td>1813     </td><td>5432     </td><td> 551     </td><td> 409.9727</td><td> 279.3251</td></tr>\n",
       "\t<tr><th scope=row>Control1_F1</th><td>10578    </td><td> 935     </td><td>1140     </td><td>4692     </td><td> 444     </td><td> 443.2793</td><td> 443.1394</td></tr>\n",
       "\t<tr><th scope=row>Control2_F1</th><td> 9190    </td><td>1052     </td><td>1039     </td><td>3407     </td><td> 292     </td><td> 674.3953</td><td> 746.7024</td></tr>\n",
       "</tbody>\n",
       "</table>\n"
      ],
      "text/latex": [
       "\\begin{tabular}{r|lllllll}\n",
       "  & NRIP3 & B3GALT2 & GARNL3 & GABRA3 & OFA1\\_Total & Predicted & Predicted\\_CV\\\\\n",
       "\\hline\n",
       "\tBeta1\\_F1 & 16732     & 2086      & 1683      & 6661      & 2631      & 2306.3325 & 2034.5854\\\\\n",
       "\tBeta2\\_F1 & 13215     & 1751      & 1792      & 6050      & 1417      & 1188.7558 & 1155.6994\\\\\n",
       "\tBeta3\\_F1 & 13871     & 1261      & 1366      & 4921      &  344      &  593.2761 &  640.0243\\\\\n",
       "\tBeta4\\_F1 & 22119     & 1753      & 1813      & 5432      &  551      &  409.9727 &  279.3251\\\\\n",
       "\tControl1\\_F1 & 10578     &  935      & 1140      & 4692      &  444      &  443.2793 &  443.1394\\\\\n",
       "\tControl2\\_F1 &  9190     & 1052      & 1039      & 3407      &  292      &  674.3953 &  746.7024\\\\\n",
       "\\end{tabular}\n"
      ],
      "text/markdown": [
       "\n",
       "| <!--/--> | NRIP3 | B3GALT2 | GARNL3 | GABRA3 | OFA1_Total | Predicted | Predicted_CV | \n",
       "|---|---|---|---|---|---|\n",
       "| Beta1_F1 | 16732     | 2086      | 1683      | 6661      | 2631      | 2306.3325 | 2034.5854 | \n",
       "| Beta2_F1 | 13215     | 1751      | 1792      | 6050      | 1417      | 1188.7558 | 1155.6994 | \n",
       "| Beta3_F1 | 13871     | 1261      | 1366      | 4921      |  344      |  593.2761 |  640.0243 | \n",
       "| Beta4_F1 | 22119     | 1753      | 1813      | 5432      |  551      |  409.9727 |  279.3251 | \n",
       "| Control1_F1 | 10578     |  935      | 1140      | 4692      |  444      |  443.2793 |  443.1394 | \n",
       "| Control2_F1 |  9190     | 1052      | 1039      | 3407      |  292      |  674.3953 |  746.7024 | \n",
       "\n",
       "\n"
      ],
      "text/plain": [
       "            NRIP3 B3GALT2 GARNL3 GABRA3 OFA1_Total Predicted Predicted_CV\n",
       "Beta1_F1    16732 2086    1683   6661   2631       2306.3325 2034.5854   \n",
       "Beta2_F1    13215 1751    1792   6050   1417       1188.7558 1155.6994   \n",
       "Beta3_F1    13871 1261    1366   4921    344        593.2761  640.0243   \n",
       "Beta4_F1    22119 1753    1813   5432    551        409.9727  279.3251   \n",
       "Control1_F1 10578  935    1140   4692    444        443.2793  443.1394   \n",
       "Control2_F1  9190 1052    1039   3407    292        674.3953  746.7024   "
      ]
     },
     "metadata": {},
     "output_type": "display_data"
    }
   ],
   "source": [
    "input= read.csv(\"PFC_model_wCV.csv\", header=TRUE, row.names=1)\n",
    "head(input)"
   ]
  },
  {
   "cell_type": "code",
   "execution_count": 78,
   "metadata": {
    "collapsed": false
   },
   "outputs": [
    {
     "data": {
      "text/plain": [
       "\n",
       "Call:\n",
       "lm(formula = Predicted ~ OFA1_Total, data = input)\n",
       "\n",
       "Residuals:\n",
       "    Min      1Q  Median      3Q     Max \n",
       "-827.30 -331.07   40.08  291.93  517.06 \n",
       "\n",
       "Coefficients:\n",
       "            Estimate Std. Error t value Pr(>|t|)    \n",
       "(Intercept) 398.0186   132.6848   3.000   0.0066 ** \n",
       "OFA1_Total    0.6155     0.1037   5.935 5.68e-06 ***\n",
       "---\n",
       "Signif. codes:  0 '***' 0.001 '**' 0.01 '*' 0.05 '.' 0.1 ' ' 1\n",
       "\n",
       "Residual standard error: 381.9 on 22 degrees of freedom\n",
       "Multiple R-squared:  0.6155,\tAdjusted R-squared:  0.598 \n",
       "F-statistic: 35.22 on 1 and 22 DF,  p-value: 5.678e-06\n"
      ]
     },
     "metadata": {},
     "output_type": "display_data"
    }
   ],
   "source": [
    "model_predicted = lm(Predicted ~ OFA1_Total, data=input)\n",
    "summary(model_predicted)"
   ]
  },
  {
   "cell_type": "code",
   "execution_count": 79,
   "metadata": {
    "collapsed": false
   },
   "outputs": [
    {
     "data": {
      "text/plain": [
       "\n",
       "Call:\n",
       "lm(formula = Predicted_CV ~ OFA1_Total, data = input)\n",
       "\n",
       "Residuals:\n",
       "    Min      1Q  Median      3Q     Max \n",
       "-830.36 -350.17   33.37  352.51  651.53 \n",
       "\n",
       "Coefficients:\n",
       "            Estimate Std. Error t value Pr(>|t|)    \n",
       "(Intercept) 494.4543   155.7081   3.176 0.004377 ** \n",
       "OFA1_Total    0.5216     0.1217   4.285 0.000301 ***\n",
       "---\n",
       "Signif. codes:  0 '***' 0.001 '**' 0.01 '*' 0.05 '.' 0.1 ' ' 1\n",
       "\n",
       "Residual standard error: 448.2 on 22 degrees of freedom\n",
       "Multiple R-squared:  0.455,\tAdjusted R-squared:  0.4302 \n",
       "F-statistic: 18.36 on 1 and 22 DF,  p-value: 0.0003005\n"
      ]
     },
     "metadata": {},
     "output_type": "display_data"
    }
   ],
   "source": [
    "## Model After LOO Cross Validation\n",
    "model_predictedCV = lm(Predicted_CV ~ OFA1_Total, data=input)\n",
    "summary(model_predictedCV)"
   ]
  },
  {
   "cell_type": "code",
   "execution_count": 109,
   "metadata": {
    "collapsed": false
   },
   "outputs": [
    {
     "data": {},
     "metadata": {},
     "output_type": "display_data"
    },
    {
     "data": {
      "image/png": "[encoded data removed]",
      "text/plain": [
       "plot without title"
      ]
     },
     "metadata": {},
     "output_type": "display_data"
    }
   ],
   "source": [
    "## Model Without Cross Validation\n",
    "p<- ggplot(input,aes(OFA1_Total,Predicted)) +\n",
    "    geom_point(size=4, color = 'navy') +\n",
    "    labs(\n",
    "        x= \"Observed Activity (OU)\",\n",
    "        y= \"Predicted Activity (OU)\"\n",
    "        ) +\n",
    "    geom_smooth(method = 'lm', se=FALSE)\n",
    "p + theme(\n",
    "        axis.line = element_line(colour = \"black\", size = 1),\n",
    "        axis.title.x = element_text(size=20),\n",
    "        axis.title.y = element_text(size=20),\n",
    "        axis.text = element_text(size=14),\n",
    "        panel.background= element_rect(fill = 'white')) "
   ]
  },
  {
   "cell_type": "code",
   "execution_count": 110,
   "metadata": {
    "collapsed": false
   },
   "outputs": [
    {
     "data": {},
     "metadata": {},
     "output_type": "display_data"
    },
    {
     "data": {
      "image/png": "[encoded data removed]",
      "text/plain": [
       "plot without title"
      ]
     },
     "metadata": {},
     "output_type": "display_data"
    }
   ],
   "source": [
    "## Model with LOO Cross Validation\n",
    "p<- ggplot(input,aes(OFA1_Total,Predicted_CV)) +\n",
    "    geom_point(size=4, color = 'darkgreen') +\n",
    "    labs(\n",
    "        x= \"Observed Activity (OU)\",\n",
    "        y= \"Predicted Activity (OU)\"\n",
    "        ) +\n",
    "    geom_smooth(method = 'lm', se=FALSE)\n",
    "p + theme(\n",
    "        axis.line = element_line(colour = \"black\", size = 1),\n",
    "        axis.title.x = element_text(size=20),\n",
    "        axis.title.y = element_text(size=20),\n",
    "        axis.text = element_text(size=14),\n",
    "        panel.background= element_rect(fill = 'white')) "
   ]
  },
  {
   "cell_type": "code",
   "execution_count": 2,
   "metadata": {
    "collapsed": true
   },
   "outputs": [],
   "source": [
    "allval =read.csv(\"data/Allgen_qPCRVal.csv\", header =TRUE, row.name=1)\n",
    "av = subset(allval, Gen == 'F1' | Gen == 'F3', select= Target:Datatype)\n",
    "seq = av[ which (av$Datatype == 'seq'),]\n",
    "test = av[ which (av$Datatype == 'test'),]"
   ]
  },
  {
   "cell_type": "code",
   "execution_count": 3,
   "metadata": {
    "collapsed": false
   },
   "outputs": [
    {
     "data": {
      "text/html": [
       "<table>\n",
       "<thead><tr><th></th><th scope=col>Beta1 F3</th><th scope=col>Beta3 F3</th><th scope=col>Beta4 F3</th><th scope=col>Beta5 F3</th><th scope=col>Beta1 F1</th><th scope=col>Beta2 F1</th><th scope=col>Beta3 F1</th><th scope=col>Beta4 F1</th><th scope=col>Control1 F3</th><th scope=col>Control2 F3</th><th scope=col>Control4 F3</th><th scope=col>Control7 F3</th><th scope=col>Control2 F1</th><th scope=col>Control3 F1</th><th scope=col>Control4 F1</th></tr></thead>\n",
       "<tbody>\n",
       "\t<tr><th scope=row>OFA1_Total</th><td>586.97000 </td><td> 8.48000  </td><td>702.87000 </td><td>2284.43000</td><td>493.90000 </td><td>1437.94000</td><td>351.72000 </td><td>2773.18000</td><td>1170.24000</td><td>26.75000  </td><td>15.07000  </td><td>924.67000 </td><td>691.08000 </td><td>26.97000  </td><td>393.65000 </td></tr>\n",
       "\t<tr><th scope=row>GARNL3_Cq</th><td> 30.58336 </td><td>30.42814  </td><td> 29.75806 </td><td>  30.22687</td><td> 32.03000 </td><td>  31.89000</td><td> 31.67000 </td><td>  31.26000</td><td>  30.69184</td><td>30.20273  </td><td>30.38427  </td><td> 30.88156 </td><td> 32.68000 </td><td>32.56000  </td><td> 32.30000 </td></tr>\n",
       "\t<tr><th scope=row>GABRA3_Cq</th><td> 24.65560 </td><td>24.37964  </td><td> 24.22730 </td><td>  24.92885</td><td> 25.26899 </td><td>  25.41201</td><td> 25.09146 </td><td>  24.34343</td><td>  25.51952</td><td>23.42095  </td><td>24.14016  </td><td> 26.84222 </td><td> 25.69683 </td><td>26.30257  </td><td> 25.91268 </td></tr>\n",
       "\t<tr><th scope=row>NRIP3_Cq</th><td> 25.15297 </td><td>24.97056  </td><td> 24.65992 </td><td>  25.86597</td><td> 26.33381 </td><td>  26.64076</td><td> 26.42335 </td><td>  25.85084</td><td>  26.45120</td><td>26.40640  </td><td>25.48902  </td><td> 27.13822 </td><td> 27.18053 </td><td>29.24712  </td><td> 27.23662 </td></tr>\n",
       "\t<tr><th scope=row>B3GALT2_Cq</th><td> 25.14000 </td><td>24.40000  </td><td> 24.36000 </td><td>  24.98000</td><td> 25.07000 </td><td>  25.10000</td><td> 24.94000 </td><td>  24.04000</td><td>  25.08000</td><td>24.46000  </td><td>24.70000  </td><td> 25.09000 </td><td> 25.62000 </td><td>26.71000  </td><td> 25.90000 </td></tr>\n",
       "</tbody>\n",
       "</table>\n"
      ],
      "text/latex": [
       "\\begin{tabular}{r|lllllllllllllll}\n",
       "  & Beta1 F3 & Beta3 F3 & Beta4 F3 & Beta5 F3 & Beta1 F1 & Beta2 F1 & Beta3 F1 & Beta4 F1 & Control1 F3 & Control2 F3 & Control4 F3 & Control7 F3 & Control2 F1 & Control3 F1 & Control4 F1\\\\\n",
       "\\hline\n",
       "\tOFA1\\_Total & 586.97000  &  8.48000   & 702.87000  & 2284.43000 & 493.90000  & 1437.94000 & 351.72000  & 2773.18000 & 1170.24000 & 26.75000   & 15.07000   & 924.67000  & 691.08000  & 26.97000   & 393.65000 \\\\\n",
       "\tGARNL3\\_Cq &  30.58336  & 30.42814   &  29.75806  &   30.22687 &  32.03000  &   31.89000 &  31.67000  &   31.26000 &   30.69184 & 30.20273   & 30.38427   &  30.88156  &  32.68000  & 32.56000   &  32.30000 \\\\\n",
       "\tGABRA3\\_Cq &  24.65560  & 24.37964   &  24.22730  &   24.92885 &  25.26899  &   25.41201 &  25.09146  &   24.34343 &   25.51952 & 23.42095   & 24.14016   &  26.84222  &  25.69683  & 26.30257   &  25.91268 \\\\\n",
       "\tNRIP3\\_Cq &  25.15297  & 24.97056   &  24.65992  &   25.86597 &  26.33381  &   26.64076 &  26.42335  &   25.85084 &   26.45120 & 26.40640   & 25.48902   &  27.13822  &  27.18053  & 29.24712   &  27.23662 \\\\\n",
       "\tB3GALT2\\_Cq &  25.14000  & 24.40000   &  24.36000  &   24.98000 &  25.07000  &   25.10000 &  24.94000  &   24.04000 &   25.08000 & 24.46000   & 24.70000   &  25.09000  &  25.62000  & 26.71000   &  25.90000 \\\\\n",
       "\\end{tabular}\n"
      ],
      "text/markdown": [
       "\n",
       "| <!--/--> | Beta1 F3 | Beta3 F3 | Beta4 F3 | Beta5 F3 | Beta1 F1 | Beta2 F1 | Beta3 F1 | Beta4 F1 | Control1 F3 | Control2 F3 | Control4 F3 | Control7 F3 | Control2 F1 | Control3 F1 | Control4 F1 | \n",
       "|---|---|---|---|---|\n",
       "| OFA1_Total | 586.97000  |  8.48000   | 702.87000  | 2284.43000 | 493.90000  | 1437.94000 | 351.72000  | 2773.18000 | 1170.24000 | 26.75000   | 15.07000   | 924.67000  | 691.08000  | 26.97000   | 393.65000  | \n",
       "| GARNL3_Cq |  30.58336  | 30.42814   |  29.75806  |   30.22687 |  32.03000  |   31.89000 |  31.67000  |   31.26000 |   30.69184 | 30.20273   | 30.38427   |  30.88156  |  32.68000  | 32.56000   |  32.30000  | \n",
       "| GABRA3_Cq |  24.65560  | 24.37964   |  24.22730  |   24.92885 |  25.26899  |   25.41201 |  25.09146  |   24.34343 |   25.51952 | 23.42095   | 24.14016   |  26.84222  |  25.69683  | 26.30257   |  25.91268  | \n",
       "| NRIP3_Cq |  25.15297  | 24.97056   |  24.65992  |   25.86597 |  26.33381  |   26.64076 |  26.42335  |   25.85084 |   26.45120 | 26.40640   | 25.48902   |  27.13822  |  27.18053  | 29.24712   |  27.23662  | \n",
       "| B3GALT2_Cq |  25.14000  | 24.40000   |  24.36000  |   24.98000 |  25.07000  |   25.10000 |  24.94000  |   24.04000 |   25.08000 | 24.46000   | 24.70000   |  25.09000  |  25.62000  | 26.71000   |  25.90000  | \n",
       "\n",
       "\n"
      ],
      "text/plain": [
       "           Beta1 F3  Beta3 F3 Beta4 F3  Beta5 F3   Beta1 F1  Beta2 F1  \n",
       "OFA1_Total 586.97000  8.48000 702.87000 2284.43000 493.90000 1437.94000\n",
       "GARNL3_Cq   30.58336 30.42814  29.75806   30.22687  32.03000   31.89000\n",
       "GABRA3_Cq   24.65560 24.37964  24.22730   24.92885  25.26899   25.41201\n",
       "NRIP3_Cq    25.15297 24.97056  24.65992   25.86597  26.33381   26.64076\n",
       "B3GALT2_Cq  25.14000 24.40000  24.36000   24.98000  25.07000   25.10000\n",
       "           Beta3 F1  Beta4 F1   Control1 F3 Control2 F3 Control4 F3 Control7 F3\n",
       "OFA1_Total 351.72000 2773.18000 1170.24000  26.75000    15.07000    924.67000  \n",
       "GARNL3_Cq   31.67000   31.26000   30.69184  30.20273    30.38427     30.88156  \n",
       "GABRA3_Cq   25.09146   24.34343   25.51952  23.42095    24.14016     26.84222  \n",
       "NRIP3_Cq    26.42335   25.85084   26.45120  26.40640    25.48902     27.13822  \n",
       "B3GALT2_Cq  24.94000   24.04000   25.08000  24.46000    24.70000     25.09000  \n",
       "           Control2 F1 Control3 F1 Control4 F1\n",
       "OFA1_Total 691.08000   26.97000    393.65000  \n",
       "GARNL3_Cq   32.68000   32.56000     32.30000  \n",
       "GABRA3_Cq   25.69683   26.30257     25.91268  \n",
       "NRIP3_Cq    27.18053   29.24712     27.23662  \n",
       "B3GALT2_Cq  25.62000   26.71000     25.90000  "
      ]
     },
     "metadata": {},
     "output_type": "display_data"
    }
   ],
   "source": [
    "dataseq = seq[,7:11]\n",
    "dataseqt = t(dataseq)\n",
    "dataseqt"
   ]
  },
  {
   "cell_type": "code",
   "execution_count": 4,
   "metadata": {
    "collapsed": false
   },
   "outputs": [
    {
     "data": {
      "text/html": [
       "<ol class=list-inline>\n",
       "\t<li>'Beta1 F3'</li>\n",
       "\t<li>'Beta3 F3'</li>\n",
       "\t<li>'Beta4 F3'</li>\n",
       "\t<li>'Beta5 F3'</li>\n",
       "\t<li>'Beta1 F1'</li>\n",
       "\t<li>'Beta2 F1'</li>\n",
       "\t<li>'Beta3 F1'</li>\n",
       "\t<li>'Beta4 F1'</li>\n",
       "\t<li>'Control1 F3'</li>\n",
       "\t<li>'Control2 F3'</li>\n",
       "\t<li>'Control4 F3'</li>\n",
       "\t<li>'Control7 F3'</li>\n",
       "\t<li>'Control2 F1'</li>\n",
       "\t<li>'Control3 F1'</li>\n",
       "\t<li>'Control4 F1'</li>\n",
       "</ol>\n"
      ],
      "text/latex": [
       "\\begin{enumerate*}\n",
       "\\item 'Beta1 F3'\n",
       "\\item 'Beta3 F3'\n",
       "\\item 'Beta4 F3'\n",
       "\\item 'Beta5 F3'\n",
       "\\item 'Beta1 F1'\n",
       "\\item 'Beta2 F1'\n",
       "\\item 'Beta3 F1'\n",
       "\\item 'Beta4 F1'\n",
       "\\item 'Control1 F3'\n",
       "\\item 'Control2 F3'\n",
       "\\item 'Control4 F3'\n",
       "\\item 'Control7 F3'\n",
       "\\item 'Control2 F1'\n",
       "\\item 'Control3 F1'\n",
       "\\item 'Control4 F1'\n",
       "\\end{enumerate*}\n"
      ],
      "text/markdown": [
       "1. 'Beta1 F3'\n",
       "2. 'Beta3 F3'\n",
       "3. 'Beta4 F3'\n",
       "4. 'Beta5 F3'\n",
       "5. 'Beta1 F1'\n",
       "6. 'Beta2 F1'\n",
       "7. 'Beta3 F1'\n",
       "8. 'Beta4 F1'\n",
       "9. 'Control1 F3'\n",
       "10. 'Control2 F3'\n",
       "11. 'Control4 F3'\n",
       "12. 'Control7 F3'\n",
       "13. 'Control2 F1'\n",
       "14. 'Control3 F1'\n",
       "15. 'Control4 F1'\n",
       "\n",
       "\n"
      ],
      "text/plain": [
       " [1] \"Beta1 F3\"    \"Beta3 F3\"    \"Beta4 F3\"    \"Beta5 F3\"    \"Beta1 F1\"   \n",
       " [6] \"Beta2 F1\"    \"Beta3 F1\"    \"Beta4 F1\"    \"Control1 F3\" \"Control2 F3\"\n",
       "[11] \"Control4 F3\" \"Control7 F3\" \"Control2 F1\" \"Control3 F1\" \"Control4 F1\""
      ]
     },
     "metadata": {},
     "output_type": "display_data"
    }
   ],
   "source": [
    "colnames(dataseqt)"
   ]
  },
  {
   "cell_type": "code",
   "execution_count": 6,
   "metadata": {
    "collapsed": false
   },
   "outputs": [
    {
     "name": "stderr",
     "output_type": "stream",
     "text": [
      "Warning message in validityMethod(object):\n",
      "\"'counts' contains non-integer numbers\"Warning message in RUVr(counts, cIdx, k, residuals, center, round, epsilon, tolerance, :\n",
      "\"It seems the count matrix is already log transformed.\n",
      "Skipping log transformation.\n",
      "If not, please fix the matrix.\n",
      "The count matrix should contain only positive numbers.\"Warning message in validityMethod(object):\n",
      "\"'counts' contains non-integer numbers\""
     ]
    },
    {
     "data": {
      "image/png": "[encoded data removed]",
      "text/plain": [
       "plot without title"
      ]
     },
     "metadata": {},
     "output_type": "display_data"
    },
    {
     "data": {
      "image/png": "[encoded data removed]",
      "text/plain": [
       "plot without title"
      ]
     },
     "metadata": {},
     "output_type": "display_data"
    }
   ],
   "source": [
    "## RUVseq is a package that allows for the removal of unwanted variance\n",
    "## in a data set. It was originally designed for RNAsequencing data, however\n",
    "## it can be applied to other forms of data as well. \n",
    "## RUVseq works by regressing the data on both the known covariates of interest\n",
    "## and the unknown factors of unwanted variation using the following equation:\n",
    "\n",
    "## log E[Y |W, X, O] = W α + Xβ + O\n",
    "\n",
    "## Here, Y is our expression data, X is our source of 'wanted variation' stemming\n",
    "## from treatment effect, and W, α, k, and β are unknown parameters. For a given\n",
    "## k, W is estimated from a first-pass GLM regression on the data on the covariates\n",
    "## of interest. The resulting estimate of W can then be plugged into the above\n",
    "## equation for the full set of data and α and β estimated by GLM regression.\n",
    "## Normalized read counts can be obtained as residuals from ordinary least squares\n",
    "## regression of log Y-O in the estimated W.  \n",
    "\n",
    "library(RUVSeq)\n",
    "x <- as.factor(c(1,1,1,1,1,1,1,1,2,2,2,2,2,2,2))\n",
    "set <- newSeqExpressionSet(as.matrix(dataseqt),\n",
    "\t\t\tphenoData = data.frame(x, row.names=colnames(dataseqt)))\n",
    "genes <- rownames(dataseqt)\t\t\n",
    "libSizes <- as.vector(colSums(dataseqt))\t\n",
    "\n",
    "### RUV visualization \n",
    "library(RColorBrewer)\n",
    "colors <- brewer.pal(3, \"Set2\")\n",
    "\n",
    "### Plots\n",
    "plotPCA(set, col=colors[x], cex=1.2)\t\n",
    "\n",
    "### RUVr normalize the data by residuals\n",
    "design<- model.matrix(~x, data=pData(set))\n",
    "y <- DGEList(counts=counts(set), group=x)\n",
    "y <- calcNormFactors(y,method=\"upperquartile\") # this step computes residuals from GLM fit\n",
    "y <- estimateGLMCommonDisp(y, design)\n",
    "y <- estimateGLMTagwiseDisp(y, design)\n",
    "fit <- glmFit(y, design)\n",
    "res <- residuals(fit, type=\"deviance\")\n",
    "set1<- RUVr(set, genes, k=3, res) ## Here we use all the genes to estimate factors of unwanted varaince\n",
    "\n",
    "plotPCA(set1, col=colors[x], cex=1.2)\t\t"
   ]
  },
  {
   "cell_type": "code",
   "execution_count": 7,
   "metadata": {
    "collapsed": false
   },
   "outputs": [
    {
     "data": {
      "text/plain": [
       "\n",
       "Call:\n",
       "lm(formula = OFA1_Total ~ B3GALT2_Cq + GARNL3_Cq + NRIP3_Cq + \n",
       "    GABRA3_Cq, data = apple2)\n",
       "\n",
       "Residuals:\n",
       "     Min       1Q   Median       3Q      Max \n",
       "-258.104 -133.409    8.154   77.941  247.365 \n",
       "\n",
       "Coefficients:\n",
       "            Estimate Std. Error t value Pr(>|t|)   \n",
       "(Intercept)  -1664.7     2578.7  -0.646  0.53310   \n",
       "B3GALT2_Cq     525.7      204.4   2.572  0.02779 * \n",
       "GARNL3_Cq     -329.5      190.7  -1.728  0.11465   \n",
       "NRIP3_Cq      -915.7      230.8  -3.967  0.00266 **\n",
       "GABRA3_Cq      944.3      341.2   2.767  0.01988 * \n",
       "---\n",
       "Signif. codes:  0 '***' 0.001 '**' 0.01 '*' 0.05 '.' 0.1 ' ' 1\n",
       "\n",
       "Residual standard error: 175.5 on 10 degrees of freedom\n",
       "Multiple R-squared:  0.7036,\tAdjusted R-squared:  0.585 \n",
       "F-statistic: 5.935 on 4 and 10 DF,  p-value: 0.01033\n"
      ]
     },
     "metadata": {},
     "output_type": "display_data"
    }
   ],
   "source": [
    "## Using the normalized counts to replicate the model\n",
    "abc<-as.data.frame(normCounts(set1))\n",
    "apple2= as.data.frame(t(abc))\n",
    "model = lm(OFA1_Total~ B3GALT2_Cq+GARNL3_Cq+NRIP3_Cq+GABRA3_Cq, data=apple2)\n",
    "summary(model)"
   ]
  },
  {
   "cell_type": "code",
   "execution_count": 8,
   "metadata": {
    "collapsed": true
   },
   "outputs": [],
   "source": [
    "apple2['PredictedTest'] = fitted.values(model)"
   ]
  },
  {
   "cell_type": "code",
   "execution_count": 9,
   "metadata": {
    "collapsed": false
   },
   "outputs": [
    {
     "data": {},
     "metadata": {},
     "output_type": "display_data"
    },
    {
     "data": {
      "image/png": "[encoded data removed]",
      "text/plain": [
       "plot without title"
      ]
     },
     "metadata": {},
     "output_type": "display_data"
    }
   ],
   "source": [
    "## Plotting the predicted vs observed activity scores\n",
    "library(ggplot2)\n",
    "p<- ggplot(apple2,aes(OFA1_Total,PredictedTest)) +\n",
    "    geom_point(size=4, color = 'steelblue') +\n",
    "    labs(\n",
    "        x= \"Observed Activity (OU)\",\n",
    "        y= \"Predicted Activity (OU)\"\n",
    "        ) +\n",
    "    geom_smooth(method = 'lm', se=FALSE)\n",
    "p + theme(\n",
    "        axis.line = element_line(colour = \"black\", size = 1),\n",
    "        axis.title.x = element_text(size=20),\n",
    "        axis.title.y = element_text(size=20),\n",
    "        axis.text = element_text(size=14),\n",
    "        panel.background= element_rect(fill = 'white'))"
   ]
  },
  {
   "cell_type": "code",
   "execution_count": 10,
   "metadata": {
    "collapsed": false
   },
   "outputs": [
    {
     "data": {
      "text/html": [
       "<table>\n",
       "<thead><tr><th></th><th scope=col>Beta2 F3</th><th scope=col>Beta6 F3</th><th scope=col>Beta7 F3</th><th scope=col>Beta8 F3</th><th scope=col>Beta9 F3</th><th scope=col>Control3 F3</th><th scope=col>Control5 F3</th><th scope=col>Control6 F3</th><th scope=col>Control8 F3</th><th scope=col>Control1 F1</th><th scope=col>Control5 F1</th><th scope=col>Control6 F1</th></tr></thead>\n",
       "<tbody>\n",
       "\t<tr><th scope=row>OFA1_Total</th><td>834.54000 </td><td>2960.56000</td><td>734.77000 </td><td>1022.69000</td><td>1068.45000</td><td>771.00000 </td><td>107.89000 </td><td>1057.12000</td><td>1222.63000</td><td>1532.92000</td><td>565.06000 </td><td>306.07000 </td></tr>\n",
       "\t<tr><th scope=row>GARNL3_Cq</th><td> 31.37724 </td><td>  30.95729</td><td> 30.74635 </td><td>  30.24042</td><td>  31.65914</td><td> 31.43504 </td><td> 31.08692 </td><td>  31.08975</td><td>  31.28855</td><td>  32.78000</td><td> 32.06000 </td><td> 31.81000 </td></tr>\n",
       "\t<tr><th scope=row>GABRA3_Cq</th><td> 25.89241 </td><td>  26.19794</td><td> 25.15020 </td><td>  24.99355</td><td>  25.97440</td><td> 26.00098 </td><td> 23.48301 </td><td>  26.17485</td><td>  25.54845</td><td>  25.51303</td><td> 25.92041 </td><td> 25.67471 </td></tr>\n",
       "\t<tr><th scope=row>NRIP3_Cq</th><td> 25.87231 </td><td>  26.35118</td><td> 26.83915 </td><td>  25.52418</td><td>  27.16957</td><td> 26.73763 </td><td> 24.97162 </td><td>  26.12444</td><td>  26.18300</td><td>  27.47073</td><td> 26.57137 </td><td> 26.59943 </td></tr>\n",
       "\t<tr><th scope=row>B3GALT2_Cq</th><td> 26.03000 </td><td>  25.50000</td><td> 25.64000 </td><td>  24.51000</td><td>  25.73000</td><td> 25.15000 </td><td> 24.36000 </td><td>  26.03000</td><td>  25.88000</td><td>  25.61000</td><td> 26.00000 </td><td> 25.24000 </td></tr>\n",
       "</tbody>\n",
       "</table>\n"
      ],
      "text/latex": [
       "\\begin{tabular}{r|llllllllllll}\n",
       "  & Beta2 F3 & Beta6 F3 & Beta7 F3 & Beta8 F3 & Beta9 F3 & Control3 F3 & Control5 F3 & Control6 F3 & Control8 F3 & Control1 F1 & Control5 F1 & Control6 F1\\\\\n",
       "\\hline\n",
       "\tOFA1\\_Total & 834.54000  & 2960.56000 & 734.77000  & 1022.69000 & 1068.45000 & 771.00000  & 107.89000  & 1057.12000 & 1222.63000 & 1532.92000 & 565.06000  & 306.07000 \\\\\n",
       "\tGARNL3\\_Cq &  31.37724  &   30.95729 &  30.74635  &   30.24042 &   31.65914 &  31.43504  &  31.08692  &   31.08975 &   31.28855 &   32.78000 &  32.06000  &  31.81000 \\\\\n",
       "\tGABRA3\\_Cq &  25.89241  &   26.19794 &  25.15020  &   24.99355 &   25.97440 &  26.00098  &  23.48301  &   26.17485 &   25.54845 &   25.51303 &  25.92041  &  25.67471 \\\\\n",
       "\tNRIP3\\_Cq &  25.87231  &   26.35118 &  26.83915  &   25.52418 &   27.16957 &  26.73763  &  24.97162  &   26.12444 &   26.18300 &   27.47073 &  26.57137  &  26.59943 \\\\\n",
       "\tB3GALT2\\_Cq &  26.03000  &   25.50000 &  25.64000  &   24.51000 &   25.73000 &  25.15000  &  24.36000  &   26.03000 &   25.88000 &   25.61000 &  26.00000  &  25.24000 \\\\\n",
       "\\end{tabular}\n"
      ],
      "text/markdown": [
       "\n",
       "| <!--/--> | Beta2 F3 | Beta6 F3 | Beta7 F3 | Beta8 F3 | Beta9 F3 | Control3 F3 | Control5 F3 | Control6 F3 | Control8 F3 | Control1 F1 | Control5 F1 | Control6 F1 | \n",
       "|---|---|---|---|---|\n",
       "| OFA1_Total | 834.54000  | 2960.56000 | 734.77000  | 1022.69000 | 1068.45000 | 771.00000  | 107.89000  | 1057.12000 | 1222.63000 | 1532.92000 | 565.06000  | 306.07000  | \n",
       "| GARNL3_Cq |  31.37724  |   30.95729 |  30.74635  |   30.24042 |   31.65914 |  31.43504  |  31.08692  |   31.08975 |   31.28855 |   32.78000 |  32.06000  |  31.81000  | \n",
       "| GABRA3_Cq |  25.89241  |   26.19794 |  25.15020  |   24.99355 |   25.97440 |  26.00098  |  23.48301  |   26.17485 |   25.54845 |   25.51303 |  25.92041  |  25.67471  | \n",
       "| NRIP3_Cq |  25.87231  |   26.35118 |  26.83915  |   25.52418 |   27.16957 |  26.73763  |  24.97162  |   26.12444 |   26.18300 |   27.47073 |  26.57137  |  26.59943  | \n",
       "| B3GALT2_Cq |  26.03000  |   25.50000 |  25.64000  |   24.51000 |   25.73000 |  25.15000  |  24.36000  |   26.03000 |   25.88000 |   25.61000 |  26.00000  |  25.24000  | \n",
       "\n",
       "\n"
      ],
      "text/plain": [
       "           Beta2 F3  Beta6 F3   Beta7 F3  Beta8 F3   Beta9 F3   Control3 F3\n",
       "OFA1_Total 834.54000 2960.56000 734.77000 1022.69000 1068.45000 771.00000  \n",
       "GARNL3_Cq   31.37724   30.95729  30.74635   30.24042   31.65914  31.43504  \n",
       "GABRA3_Cq   25.89241   26.19794  25.15020   24.99355   25.97440  26.00098  \n",
       "NRIP3_Cq    25.87231   26.35118  26.83915   25.52418   27.16957  26.73763  \n",
       "B3GALT2_Cq  26.03000   25.50000  25.64000   24.51000   25.73000  25.15000  \n",
       "           Control5 F3 Control6 F3 Control8 F3 Control1 F1 Control5 F1\n",
       "OFA1_Total 107.89000   1057.12000  1222.63000  1532.92000  565.06000  \n",
       "GARNL3_Cq   31.08692     31.08975    31.28855    32.78000   32.06000  \n",
       "GABRA3_Cq   23.48301     26.17485    25.54845    25.51303   25.92041  \n",
       "NRIP3_Cq    24.97162     26.12444    26.18300    27.47073   26.57137  \n",
       "B3GALT2_Cq  24.36000     26.03000    25.88000    25.61000   26.00000  \n",
       "           Control6 F1\n",
       "OFA1_Total 306.07000  \n",
       "GARNL3_Cq   31.81000  \n",
       "GABRA3_Cq   25.67471  \n",
       "NRIP3_Cq    26.59943  \n",
       "B3GALT2_Cq  25.24000  "
      ]
     },
     "metadata": {},
     "output_type": "display_data"
    }
   ],
   "source": [
    "## The following is a replication of the exact same normalization parameters on the test data as were performed\n",
    "## on the training data. Note that test and training data are normalized separately.\n",
    "datatest<-(test[,7:11])\n",
    "datatestt = t(datatest)\n",
    "datatestt"
   ]
  },
  {
   "cell_type": "code",
   "execution_count": 11,
   "metadata": {
    "collapsed": false
   },
   "outputs": [
    {
     "data": {
      "text/html": [
       "<ol class=list-inline>\n",
       "\t<li>'Beta2 F3'</li>\n",
       "\t<li>'Beta6 F3'</li>\n",
       "\t<li>'Beta7 F3'</li>\n",
       "\t<li>'Beta8 F3'</li>\n",
       "\t<li>'Beta9 F3'</li>\n",
       "\t<li>'Control3 F3'</li>\n",
       "\t<li>'Control5 F3'</li>\n",
       "\t<li>'Control6 F3'</li>\n",
       "\t<li>'Control8 F3'</li>\n",
       "\t<li>'Control1 F1'</li>\n",
       "\t<li>'Control5 F1'</li>\n",
       "\t<li>'Control6 F1'</li>\n",
       "</ol>\n"
      ],
      "text/latex": [
       "\\begin{enumerate*}\n",
       "\\item 'Beta2 F3'\n",
       "\\item 'Beta6 F3'\n",
       "\\item 'Beta7 F3'\n",
       "\\item 'Beta8 F3'\n",
       "\\item 'Beta9 F3'\n",
       "\\item 'Control3 F3'\n",
       "\\item 'Control5 F3'\n",
       "\\item 'Control6 F3'\n",
       "\\item 'Control8 F3'\n",
       "\\item 'Control1 F1'\n",
       "\\item 'Control5 F1'\n",
       "\\item 'Control6 F1'\n",
       "\\end{enumerate*}\n"
      ],
      "text/markdown": [
       "1. 'Beta2 F3'\n",
       "2. 'Beta6 F3'\n",
       "3. 'Beta7 F3'\n",
       "4. 'Beta8 F3'\n",
       "5. 'Beta9 F3'\n",
       "6. 'Control3 F3'\n",
       "7. 'Control5 F3'\n",
       "8. 'Control6 F3'\n",
       "9. 'Control8 F3'\n",
       "10. 'Control1 F1'\n",
       "11. 'Control5 F1'\n",
       "12. 'Control6 F1'\n",
       "\n",
       "\n"
      ],
      "text/plain": [
       " [1] \"Beta2 F3\"    \"Beta6 F3\"    \"Beta7 F3\"    \"Beta8 F3\"    \"Beta9 F3\"   \n",
       " [6] \"Control3 F3\" \"Control5 F3\" \"Control6 F3\" \"Control8 F3\" \"Control1 F1\"\n",
       "[11] \"Control5 F1\" \"Control6 F1\""
      ]
     },
     "metadata": {},
     "output_type": "display_data"
    }
   ],
   "source": [
    "colnames(datatestt)"
   ]
  },
  {
   "cell_type": "code",
   "execution_count": 13,
   "metadata": {
    "collapsed": false
   },
   "outputs": [
    {
     "name": "stderr",
     "output_type": "stream",
     "text": [
      "Warning message in validityMethod(object):\n",
      "\"'counts' contains non-integer numbers\"Warning message in RUVr(counts, cIdx, k, residuals, center, round, epsilon, tolerance, :\n",
      "\"It seems the count matrix is already log transformed.\n",
      "Skipping log transformation.\n",
      "If not, please fix the matrix.\n",
      "The count matrix should contain only positive numbers.\"Warning message in validityMethod(object):\n",
      "\"'counts' contains non-integer numbers\""
     ]
    },
    {
     "data": {
      "image/png": "[encoded data removed]",
      "text/plain": [
       "plot without title"
      ]
     },
     "metadata": {},
     "output_type": "display_data"
    },
    {
     "data": {
      "image/png": "[encoded data removed]",
      "text/plain": [
       "plot without title"
      ]
     },
     "metadata": {},
     "output_type": "display_data"
    }
   ],
   "source": [
    "## RUVSeq normalization was applied to the test data as was applied to training data\n",
    "library(RUVSeq)\n",
    "xtest <- as.factor(c(1,1,1,1,1,2,2,2,2,2,2,2))\n",
    "settest <- newSeqExpressionSet(as.matrix(datatestt),\n",
    "\t\t\tphenoData = data.frame(xtest, row.names=colnames(datatestt)))\n",
    "genes <- rownames(datatestt)\t\t\n",
    "libSizes <- as.vector(colSums(datatestt))\t\n",
    "\n",
    "### RUV visualization \n",
    "library(RColorBrewer)\n",
    "colors <- brewer.pal(3, \"Set2\")\n",
    "\n",
    "### Plots\n",
    "plotPCA(set, col=colors[xtest], cex=1.2)\t\n",
    "\n",
    "### RUVr normalize the data by residuals\n",
    "designtest<- model.matrix(~xtest, data=pData(settest))\n",
    "ytest <- DGEList(counts=counts(settest), group=xtest)\n",
    "ytest <- calcNormFactors(ytest,method=\"upperquartile\")\n",
    "ytest <- estimateGLMCommonDisp(ytest, designtest)\n",
    "ytest <- estimateGLMTagwiseDisp(ytest, designtest)\n",
    "fittest <- glmFit(ytest, designtest)\n",
    "restest <- residuals(fittest, type=\"deviance\")\n",
    "set1test<- RUVr(settest, genes, k=3, restest)\n",
    "\n",
    "plotPCA(set1test, col=colors[xtest], cex=1.2)\t\t\n"
   ]
  },
  {
   "cell_type": "code",
   "execution_count": 14,
   "metadata": {
    "collapsed": false
   },
   "outputs": [
    {
     "data": {
      "text/html": [
       "<table>\n",
       "<thead><tr><th></th><th scope=col>OFA1_Total</th><th scope=col>GARNL3_Cq</th><th scope=col>GABRA3_Cq</th><th scope=col>NRIP3_Cq</th><th scope=col>B3GALT2_Cq</th></tr></thead>\n",
       "<tbody>\n",
       "\t<tr><th scope=row>Beta2 F3</th><td>1002.4829</td><td>31.65049 </td><td>26.20821 </td><td>26.86580 </td><td>25.94565 </td></tr>\n",
       "\t<tr><th scope=row>Beta6 F3</th><td>1918.4471</td><td>30.74963 </td><td>25.56374 </td><td>26.04583 </td><td>25.10360 </td></tr>\n",
       "\t<tr><th scope=row>Beta7 F3</th><td>1255.4657</td><td>30.81935 </td><td>25.12429 </td><td>26.43280 </td><td>25.79136 </td></tr>\n",
       "\t<tr><th scope=row>Beta8 F3</th><td>1066.8537</td><td>30.18588 </td><td>25.15955 </td><td>25.55912 </td><td>24.60671 </td></tr>\n",
       "\t<tr><th scope=row>Beta9 F3</th><td>1173.9059</td><td>31.51459 </td><td>26.07318 </td><td>26.80122 </td><td>25.91040 </td></tr>\n",
       "\t<tr><th scope=row>Control3 F3</th><td> 838.5405</td><td>31.45232 </td><td>25.56389 </td><td>26.10396 </td><td>25.07298 </td></tr>\n",
       "\t<tr><th scope=row>Control5 F3</th><td>1120.1807</td><td>31.08403 </td><td>24.99467 </td><td>25.95864 </td><td>25.09612 </td></tr>\n",
       "\t<tr><th scope=row>Control6 F3</th><td> 798.2396</td><td>31.49893 </td><td>25.29435 </td><td>26.28984 </td><td>25.41054 </td></tr>\n",
       "\t<tr><th scope=row>Control8 F3</th><td> 659.5838</td><td>31.36439 </td><td>25.00656 </td><td>26.24944 </td><td>25.47318 </td></tr>\n",
       "\t<tr><th scope=row>Control1 F1</th><td> 538.2848</td><td>32.02862 </td><td>25.64481 </td><td>26.70801 </td><td>25.82987 </td></tr>\n",
       "\t<tr><th scope=row>Control5 F1</th><td> 763.9201</td><td>32.23673 </td><td>25.94718 </td><td>26.86920 </td><td>25.94580 </td></tr>\n",
       "\t<tr><th scope=row>Control6 F1</th><td>1047.7951</td><td>31.94574 </td><td>25.94352 </td><td>26.53073 </td><td>25.49379 </td></tr>\n",
       "</tbody>\n",
       "</table>\n"
      ],
      "text/latex": [
       "\\begin{tabular}{r|lllll}\n",
       "  & OFA1\\_Total & GARNL3\\_Cq & GABRA3\\_Cq & NRIP3\\_Cq & B3GALT2\\_Cq\\\\\n",
       "\\hline\n",
       "\tBeta2 F3 & 1002.4829 & 31.65049  & 26.20821  & 26.86580  & 25.94565 \\\\\n",
       "\tBeta6 F3 & 1918.4471 & 30.74963  & 25.56374  & 26.04583  & 25.10360 \\\\\n",
       "\tBeta7 F3 & 1255.4657 & 30.81935  & 25.12429  & 26.43280  & 25.79136 \\\\\n",
       "\tBeta8 F3 & 1066.8537 & 30.18588  & 25.15955  & 25.55912  & 24.60671 \\\\\n",
       "\tBeta9 F3 & 1173.9059 & 31.51459  & 26.07318  & 26.80122  & 25.91040 \\\\\n",
       "\tControl3 F3 &  838.5405 & 31.45232  & 25.56389  & 26.10396  & 25.07298 \\\\\n",
       "\tControl5 F3 & 1120.1807 & 31.08403  & 24.99467  & 25.95864  & 25.09612 \\\\\n",
       "\tControl6 F3 &  798.2396 & 31.49893  & 25.29435  & 26.28984  & 25.41054 \\\\\n",
       "\tControl8 F3 &  659.5838 & 31.36439  & 25.00656  & 26.24944  & 25.47318 \\\\\n",
       "\tControl1 F1 &  538.2848 & 32.02862  & 25.64481  & 26.70801  & 25.82987 \\\\\n",
       "\tControl5 F1 &  763.9201 & 32.23673  & 25.94718  & 26.86920  & 25.94580 \\\\\n",
       "\tControl6 F1 & 1047.7951 & 31.94574  & 25.94352  & 26.53073  & 25.49379 \\\\\n",
       "\\end{tabular}\n"
      ],
      "text/markdown": [
       "\n",
       "| <!--/--> | OFA1_Total | GARNL3_Cq | GABRA3_Cq | NRIP3_Cq | B3GALT2_Cq | \n",
       "|---|---|---|---|---|---|---|---|---|---|---|---|\n",
       "| Beta2 F3 | 1002.4829 | 31.65049  | 26.20821  | 26.86580  | 25.94565  | \n",
       "| Beta6 F3 | 1918.4471 | 30.74963  | 25.56374  | 26.04583  | 25.10360  | \n",
       "| Beta7 F3 | 1255.4657 | 30.81935  | 25.12429  | 26.43280  | 25.79136  | \n",
       "| Beta8 F3 | 1066.8537 | 30.18588  | 25.15955  | 25.55912  | 24.60671  | \n",
       "| Beta9 F3 | 1173.9059 | 31.51459  | 26.07318  | 26.80122  | 25.91040  | \n",
       "| Control3 F3 |  838.5405 | 31.45232  | 25.56389  | 26.10396  | 25.07298  | \n",
       "| Control5 F3 | 1120.1807 | 31.08403  | 24.99467  | 25.95864  | 25.09612  | \n",
       "| Control6 F3 |  798.2396 | 31.49893  | 25.29435  | 26.28984  | 25.41054  | \n",
       "| Control8 F3 |  659.5838 | 31.36439  | 25.00656  | 26.24944  | 25.47318  | \n",
       "| Control1 F1 |  538.2848 | 32.02862  | 25.64481  | 26.70801  | 25.82987  | \n",
       "| Control5 F1 |  763.9201 | 32.23673  | 25.94718  | 26.86920  | 25.94580  | \n",
       "| Control6 F1 | 1047.7951 | 31.94574  | 25.94352  | 26.53073  | 25.49379  | \n",
       "\n",
       "\n"
      ],
      "text/plain": [
       "            OFA1_Total GARNL3_Cq GABRA3_Cq NRIP3_Cq B3GALT2_Cq\n",
       "Beta2 F3    1002.4829  31.65049  26.20821  26.86580 25.94565  \n",
       "Beta6 F3    1918.4471  30.74963  25.56374  26.04583 25.10360  \n",
       "Beta7 F3    1255.4657  30.81935  25.12429  26.43280 25.79136  \n",
       "Beta8 F3    1066.8537  30.18588  25.15955  25.55912 24.60671  \n",
       "Beta9 F3    1173.9059  31.51459  26.07318  26.80122 25.91040  \n",
       "Control3 F3  838.5405  31.45232  25.56389  26.10396 25.07298  \n",
       "Control5 F3 1120.1807  31.08403  24.99467  25.95864 25.09612  \n",
       "Control6 F3  798.2396  31.49893  25.29435  26.28984 25.41054  \n",
       "Control8 F3  659.5838  31.36439  25.00656  26.24944 25.47318  \n",
       "Control1 F1  538.2848  32.02862  25.64481  26.70801 25.82987  \n",
       "Control5 F1  763.9201  32.23673  25.94718  26.86920 25.94580  \n",
       "Control6 F1 1047.7951  31.94574  25.94352  26.53073 25.49379  "
      ]
     },
     "metadata": {},
     "output_type": "display_data"
    }
   ],
   "source": [
    "## normalized counts are extracted to be tested in the model\n",
    "testabc = as.data.frame(normCounts(set1test))\n",
    "testabct = as.data.frame(t(testabc))\n",
    "testabct"
   ]
  },
  {
   "cell_type": "code",
   "execution_count": 15,
   "metadata": {
    "collapsed": false
   },
   "outputs": [
    {
     "data": {
      "text/plain": [
       "\n",
       "Call:\n",
       "lm(formula = OFA1_Total ~ PredictedTest, data = testabct)\n",
       "\n",
       "Residuals:\n",
       "    Min      1Q  Median      3Q     Max \n",
       "-290.14 -202.02  -53.76   69.33  628.85 \n",
       "\n",
       "Coefficients:\n",
       "               Estimate Std. Error t value Pr(>|t|)  \n",
       "(Intercept)   -131.7760   472.4775  -0.279   0.7860  \n",
       "PredictedTest    0.8404     0.3404   2.468   0.0332 *\n",
       "---\n",
       "Signif. codes:  0 '***' 0.001 '**' 0.01 '*' 0.05 '.' 0.1 ' ' 1\n",
       "\n",
       "Residual standard error: 295.9 on 10 degrees of freedom\n",
       "Multiple R-squared:  0.3786,\tAdjusted R-squared:  0.3165 \n",
       "F-statistic: 6.093 on 1 and 10 DF,  p-value: 0.03319\n"
      ]
     },
     "metadata": {},
     "output_type": "display_data"
    }
   ],
   "source": [
    "## Model from training data is used to predict activity from the test data\n",
    "testabct['PredictedTest'] = predict.lm(model, testabct)\n",
    "\n",
    "ans = lm(OFA1_Total~ PredictedTest, data = testabct)\n",
    "summary(ans)"
   ]
  },
  {
   "cell_type": "code",
   "execution_count": 16,
   "metadata": {
    "collapsed": false
   },
   "outputs": [
    {
     "data": {},
     "metadata": {},
     "output_type": "display_data"
    },
    {
     "data": {
      "image/png": "[encoded data removed]",
      "text/plain": [
       "plot without title"
      ]
     },
     "metadata": {},
     "output_type": "display_data"
    }
   ],
   "source": [
    "## These data demonstrates that the model generalizes to a novel data set, suggesting that these genes\n",
    "## may indeed play a role in mediating behavior.\n",
    "\n",
    "p<- ggplot(testabct,aes(OFA1_Total,PredictedTest)) +\n",
    "    geom_point(size=4, color = 'darkgreen') +\n",
    "    labs(\n",
    "        x= \"Observed Activity (OU)\",\n",
    "        y= \"Predicted Activity (OU)\"\n",
    "        ) +\n",
    "    geom_smooth(method = 'lm', se=FALSE)\n",
    "p + theme(\n",
    "        axis.line = element_line(colour = \"black\", size = 1),\n",
    "        axis.title.x = element_text(size=20),\n",
    "        axis.title.y = element_text(size=20),\n",
    "        axis.text = element_text(size=14),\n",
    "        panel.background= element_rect(fill = 'white'))"
   ]
  },
  {
   "cell_type": "code",
   "execution_count": null,
   "metadata": {
    "collapsed": true
   },
   "outputs": [],
   "source": []
  },
  {
   "cell_type": "code",
   "execution_count": null,
   "metadata": {
    "collapsed": true
   },
   "outputs": [],
   "source": []
  },
  {
   "cell_type": "code",
   "execution_count": null,
   "metadata": {
    "collapsed": true
   },
   "outputs": [],
   "source": []
  },
  {
   "cell_type": "code",
   "execution_count": null,
   "metadata": {
    "collapsed": true
   },
   "outputs": [],
   "source": []
  },
  {
   "cell_type": "code",
   "execution_count": null,
   "metadata": {
    "collapsed": true
   },
   "outputs": [],
   "source": []
  },
  {
   "cell_type": "code",
   "execution_count": null,
   "metadata": {
    "collapsed": true
   },
   "outputs": [],
   "source": []
  },
  {
   "cell_type": "code",
   "execution_count": null,
   "metadata": {
    "collapsed": true
   },
   "outputs": [],
   "source": []
  }
 ],
 "metadata": {
  "anaconda-cloud": {},
  "kernelspec": {
   "display_name": "R",
   "language": "R",
   "name": "ir"
  },
  "language_info": {
   "codemirror_mode": "r",
   "file_extension": ".r",
   "mimetype": "text/x-r-source",
   "name": "R",
   "pygments_lexer": "r",
   "version": "3.2.3"
  }
 },
 "nbformat": 4,
 "nbformat_minor": 1
}
